{
 "cells": [
  {
   "cell_type": "code",
   "execution_count": 47,
   "metadata": {},
   "outputs": [],
   "source": [
    "# Filtering out the warnings\n",
    "\n",
    "import warnings\n",
    "\n",
    "warnings.filterwarnings('ignore')"
   ]
  },
  {
   "cell_type": "code",
   "execution_count": 48,
   "metadata": {},
   "outputs": [],
   "source": [
    "# Importing the required libraries\n",
    "\n",
    "import numpy as np\n",
    "import pandas as pd\n",
    "import seaborn as sns\n",
    "import matplotlib.pyplot as plt\n",
    "import zipfile"
   ]
  },
  {
   "cell_type": "code",
   "execution_count": 49,
   "metadata": {},
   "outputs": [],
   "source": [
    "# open zipped dataset\n",
    "with zipfile.ZipFile(\"Credit EDA Case Study-20210727T203016Z-001.zip\") as z:\n",
    "    #open the csv file in the dataset\n",
    "    with z.open('Credit EDA Case Study/application_data.csv') as f:\n",
    "        #read the dataset\n",
    "        data = pd.read_csv(f)\n",
    "    with z.open('Credit EDA Case Study/previous_application.csv') as f1:\n",
    "        p_data = pd.read_csv(f1)"
   ]
  },
  {
   "cell_type": "code",
   "execution_count": 50,
   "metadata": {},
   "outputs": [
    {
     "data": {
      "text/html": [
       "<div>\n",
       "<style scoped>\n",
       "    .dataframe tbody tr th:only-of-type {\n",
       "        vertical-align: middle;\n",
       "    }\n",
       "\n",
       "    .dataframe tbody tr th {\n",
       "        vertical-align: top;\n",
       "    }\n",
       "\n",
       "    .dataframe thead th {\n",
       "        text-align: right;\n",
       "    }\n",
       "</style>\n",
       "<table border=\"1\" class=\"dataframe\">\n",
       "  <thead>\n",
       "    <tr style=\"text-align: right;\">\n",
       "      <th></th>\n",
       "      <th>SK_ID_CURR</th>\n",
       "      <th>TARGET</th>\n",
       "      <th>NAME_CONTRACT_TYPE</th>\n",
       "      <th>CODE_GENDER</th>\n",
       "      <th>FLAG_OWN_CAR</th>\n",
       "      <th>FLAG_OWN_REALTY</th>\n",
       "      <th>CNT_CHILDREN</th>\n",
       "      <th>AMT_INCOME_TOTAL</th>\n",
       "      <th>AMT_CREDIT</th>\n",
       "      <th>AMT_ANNUITY</th>\n",
       "      <th>...</th>\n",
       "      <th>FLAG_DOCUMENT_18</th>\n",
       "      <th>FLAG_DOCUMENT_19</th>\n",
       "      <th>FLAG_DOCUMENT_20</th>\n",
       "      <th>FLAG_DOCUMENT_21</th>\n",
       "      <th>AMT_REQ_CREDIT_BUREAU_HOUR</th>\n",
       "      <th>AMT_REQ_CREDIT_BUREAU_DAY</th>\n",
       "      <th>AMT_REQ_CREDIT_BUREAU_WEEK</th>\n",
       "      <th>AMT_REQ_CREDIT_BUREAU_MON</th>\n",
       "      <th>AMT_REQ_CREDIT_BUREAU_QRT</th>\n",
       "      <th>AMT_REQ_CREDIT_BUREAU_YEAR</th>\n",
       "    </tr>\n",
       "  </thead>\n",
       "  <tbody>\n",
       "    <tr>\n",
       "      <th>0</th>\n",
       "      <td>100002</td>\n",
       "      <td>1</td>\n",
       "      <td>Cash loans</td>\n",
       "      <td>M</td>\n",
       "      <td>N</td>\n",
       "      <td>Y</td>\n",
       "      <td>0</td>\n",
       "      <td>202500.0</td>\n",
       "      <td>406597.5</td>\n",
       "      <td>24700.5</td>\n",
       "      <td>...</td>\n",
       "      <td>0</td>\n",
       "      <td>0</td>\n",
       "      <td>0</td>\n",
       "      <td>0</td>\n",
       "      <td>0.0</td>\n",
       "      <td>0.0</td>\n",
       "      <td>0.0</td>\n",
       "      <td>0.0</td>\n",
       "      <td>0.0</td>\n",
       "      <td>1.0</td>\n",
       "    </tr>\n",
       "    <tr>\n",
       "      <th>1</th>\n",
       "      <td>100003</td>\n",
       "      <td>0</td>\n",
       "      <td>Cash loans</td>\n",
       "      <td>F</td>\n",
       "      <td>N</td>\n",
       "      <td>N</td>\n",
       "      <td>0</td>\n",
       "      <td>270000.0</td>\n",
       "      <td>1293502.5</td>\n",
       "      <td>35698.5</td>\n",
       "      <td>...</td>\n",
       "      <td>0</td>\n",
       "      <td>0</td>\n",
       "      <td>0</td>\n",
       "      <td>0</td>\n",
       "      <td>0.0</td>\n",
       "      <td>0.0</td>\n",
       "      <td>0.0</td>\n",
       "      <td>0.0</td>\n",
       "      <td>0.0</td>\n",
       "      <td>0.0</td>\n",
       "    </tr>\n",
       "    <tr>\n",
       "      <th>2</th>\n",
       "      <td>100004</td>\n",
       "      <td>0</td>\n",
       "      <td>Revolving loans</td>\n",
       "      <td>M</td>\n",
       "      <td>Y</td>\n",
       "      <td>Y</td>\n",
       "      <td>0</td>\n",
       "      <td>67500.0</td>\n",
       "      <td>135000.0</td>\n",
       "      <td>6750.0</td>\n",
       "      <td>...</td>\n",
       "      <td>0</td>\n",
       "      <td>0</td>\n",
       "      <td>0</td>\n",
       "      <td>0</td>\n",
       "      <td>0.0</td>\n",
       "      <td>0.0</td>\n",
       "      <td>0.0</td>\n",
       "      <td>0.0</td>\n",
       "      <td>0.0</td>\n",
       "      <td>0.0</td>\n",
       "    </tr>\n",
       "    <tr>\n",
       "      <th>3</th>\n",
       "      <td>100006</td>\n",
       "      <td>0</td>\n",
       "      <td>Cash loans</td>\n",
       "      <td>F</td>\n",
       "      <td>N</td>\n",
       "      <td>Y</td>\n",
       "      <td>0</td>\n",
       "      <td>135000.0</td>\n",
       "      <td>312682.5</td>\n",
       "      <td>29686.5</td>\n",
       "      <td>...</td>\n",
       "      <td>0</td>\n",
       "      <td>0</td>\n",
       "      <td>0</td>\n",
       "      <td>0</td>\n",
       "      <td>NaN</td>\n",
       "      <td>NaN</td>\n",
       "      <td>NaN</td>\n",
       "      <td>NaN</td>\n",
       "      <td>NaN</td>\n",
       "      <td>NaN</td>\n",
       "    </tr>\n",
       "    <tr>\n",
       "      <th>4</th>\n",
       "      <td>100007</td>\n",
       "      <td>0</td>\n",
       "      <td>Cash loans</td>\n",
       "      <td>M</td>\n",
       "      <td>N</td>\n",
       "      <td>Y</td>\n",
       "      <td>0</td>\n",
       "      <td>121500.0</td>\n",
       "      <td>513000.0</td>\n",
       "      <td>21865.5</td>\n",
       "      <td>...</td>\n",
       "      <td>0</td>\n",
       "      <td>0</td>\n",
       "      <td>0</td>\n",
       "      <td>0</td>\n",
       "      <td>0.0</td>\n",
       "      <td>0.0</td>\n",
       "      <td>0.0</td>\n",
       "      <td>0.0</td>\n",
       "      <td>0.0</td>\n",
       "      <td>0.0</td>\n",
       "    </tr>\n",
       "  </tbody>\n",
       "</table>\n",
       "<p>5 rows × 122 columns</p>\n",
       "</div>"
      ],
      "text/plain": [
       "   SK_ID_CURR  TARGET NAME_CONTRACT_TYPE CODE_GENDER FLAG_OWN_CAR  \\\n",
       "0      100002       1         Cash loans           M            N   \n",
       "1      100003       0         Cash loans           F            N   \n",
       "2      100004       0    Revolving loans           M            Y   \n",
       "3      100006       0         Cash loans           F            N   \n",
       "4      100007       0         Cash loans           M            N   \n",
       "\n",
       "  FLAG_OWN_REALTY  CNT_CHILDREN  AMT_INCOME_TOTAL  AMT_CREDIT  AMT_ANNUITY  \\\n",
       "0               Y             0          202500.0    406597.5      24700.5   \n",
       "1               N             0          270000.0   1293502.5      35698.5   \n",
       "2               Y             0           67500.0    135000.0       6750.0   \n",
       "3               Y             0          135000.0    312682.5      29686.5   \n",
       "4               Y             0          121500.0    513000.0      21865.5   \n",
       "\n",
       "   ...  FLAG_DOCUMENT_18 FLAG_DOCUMENT_19 FLAG_DOCUMENT_20 FLAG_DOCUMENT_21  \\\n",
       "0  ...                 0                0                0                0   \n",
       "1  ...                 0                0                0                0   \n",
       "2  ...                 0                0                0                0   \n",
       "3  ...                 0                0                0                0   \n",
       "4  ...                 0                0                0                0   \n",
       "\n",
       "  AMT_REQ_CREDIT_BUREAU_HOUR AMT_REQ_CREDIT_BUREAU_DAY  \\\n",
       "0                        0.0                       0.0   \n",
       "1                        0.0                       0.0   \n",
       "2                        0.0                       0.0   \n",
       "3                        NaN                       NaN   \n",
       "4                        0.0                       0.0   \n",
       "\n",
       "   AMT_REQ_CREDIT_BUREAU_WEEK  AMT_REQ_CREDIT_BUREAU_MON  \\\n",
       "0                         0.0                        0.0   \n",
       "1                         0.0                        0.0   \n",
       "2                         0.0                        0.0   \n",
       "3                         NaN                        NaN   \n",
       "4                         0.0                        0.0   \n",
       "\n",
       "   AMT_REQ_CREDIT_BUREAU_QRT  AMT_REQ_CREDIT_BUREAU_YEAR  \n",
       "0                        0.0                         1.0  \n",
       "1                        0.0                         0.0  \n",
       "2                        0.0                         0.0  \n",
       "3                        NaN                         NaN  \n",
       "4                        0.0                         0.0  \n",
       "\n",
       "[5 rows x 122 columns]"
      ]
     },
     "execution_count": 50,
     "metadata": {},
     "output_type": "execute_result"
    }
   ],
   "source": [
    "# display application data (data about client has payment difficulties or not)\n",
    "data.head()"
   ]
  },
  {
   "cell_type": "code",
   "execution_count": 51,
   "metadata": {
    "scrolled": true
   },
   "outputs": [
    {
     "data": {
      "text/html": [
       "<div>\n",
       "<style scoped>\n",
       "    .dataframe tbody tr th:only-of-type {\n",
       "        vertical-align: middle;\n",
       "    }\n",
       "\n",
       "    .dataframe tbody tr th {\n",
       "        vertical-align: top;\n",
       "    }\n",
       "\n",
       "    .dataframe thead th {\n",
       "        text-align: right;\n",
       "    }\n",
       "</style>\n",
       "<table border=\"1\" class=\"dataframe\">\n",
       "  <thead>\n",
       "    <tr style=\"text-align: right;\">\n",
       "      <th></th>\n",
       "      <th>SK_ID_PREV</th>\n",
       "      <th>SK_ID_CURR</th>\n",
       "      <th>NAME_CONTRACT_TYPE</th>\n",
       "      <th>AMT_ANNUITY</th>\n",
       "      <th>AMT_APPLICATION</th>\n",
       "      <th>AMT_CREDIT</th>\n",
       "      <th>AMT_DOWN_PAYMENT</th>\n",
       "      <th>AMT_GOODS_PRICE</th>\n",
       "      <th>WEEKDAY_APPR_PROCESS_START</th>\n",
       "      <th>HOUR_APPR_PROCESS_START</th>\n",
       "      <th>...</th>\n",
       "      <th>NAME_SELLER_INDUSTRY</th>\n",
       "      <th>CNT_PAYMENT</th>\n",
       "      <th>NAME_YIELD_GROUP</th>\n",
       "      <th>PRODUCT_COMBINATION</th>\n",
       "      <th>DAYS_FIRST_DRAWING</th>\n",
       "      <th>DAYS_FIRST_DUE</th>\n",
       "      <th>DAYS_LAST_DUE_1ST_VERSION</th>\n",
       "      <th>DAYS_LAST_DUE</th>\n",
       "      <th>DAYS_TERMINATION</th>\n",
       "      <th>NFLAG_INSURED_ON_APPROVAL</th>\n",
       "    </tr>\n",
       "  </thead>\n",
       "  <tbody>\n",
       "    <tr>\n",
       "      <th>0</th>\n",
       "      <td>2030495</td>\n",
       "      <td>271877</td>\n",
       "      <td>Consumer loans</td>\n",
       "      <td>1730.430</td>\n",
       "      <td>17145.0</td>\n",
       "      <td>17145.0</td>\n",
       "      <td>0.0</td>\n",
       "      <td>17145.0</td>\n",
       "      <td>SATURDAY</td>\n",
       "      <td>15</td>\n",
       "      <td>...</td>\n",
       "      <td>Connectivity</td>\n",
       "      <td>12.0</td>\n",
       "      <td>middle</td>\n",
       "      <td>POS mobile with interest</td>\n",
       "      <td>365243.0</td>\n",
       "      <td>-42.0</td>\n",
       "      <td>300.0</td>\n",
       "      <td>-42.0</td>\n",
       "      <td>-37.0</td>\n",
       "      <td>0.0</td>\n",
       "    </tr>\n",
       "    <tr>\n",
       "      <th>1</th>\n",
       "      <td>2802425</td>\n",
       "      <td>108129</td>\n",
       "      <td>Cash loans</td>\n",
       "      <td>25188.615</td>\n",
       "      <td>607500.0</td>\n",
       "      <td>679671.0</td>\n",
       "      <td>NaN</td>\n",
       "      <td>607500.0</td>\n",
       "      <td>THURSDAY</td>\n",
       "      <td>11</td>\n",
       "      <td>...</td>\n",
       "      <td>XNA</td>\n",
       "      <td>36.0</td>\n",
       "      <td>low_action</td>\n",
       "      <td>Cash X-Sell: low</td>\n",
       "      <td>365243.0</td>\n",
       "      <td>-134.0</td>\n",
       "      <td>916.0</td>\n",
       "      <td>365243.0</td>\n",
       "      <td>365243.0</td>\n",
       "      <td>1.0</td>\n",
       "    </tr>\n",
       "    <tr>\n",
       "      <th>2</th>\n",
       "      <td>2523466</td>\n",
       "      <td>122040</td>\n",
       "      <td>Cash loans</td>\n",
       "      <td>15060.735</td>\n",
       "      <td>112500.0</td>\n",
       "      <td>136444.5</td>\n",
       "      <td>NaN</td>\n",
       "      <td>112500.0</td>\n",
       "      <td>TUESDAY</td>\n",
       "      <td>11</td>\n",
       "      <td>...</td>\n",
       "      <td>XNA</td>\n",
       "      <td>12.0</td>\n",
       "      <td>high</td>\n",
       "      <td>Cash X-Sell: high</td>\n",
       "      <td>365243.0</td>\n",
       "      <td>-271.0</td>\n",
       "      <td>59.0</td>\n",
       "      <td>365243.0</td>\n",
       "      <td>365243.0</td>\n",
       "      <td>1.0</td>\n",
       "    </tr>\n",
       "    <tr>\n",
       "      <th>3</th>\n",
       "      <td>2819243</td>\n",
       "      <td>176158</td>\n",
       "      <td>Cash loans</td>\n",
       "      <td>47041.335</td>\n",
       "      <td>450000.0</td>\n",
       "      <td>470790.0</td>\n",
       "      <td>NaN</td>\n",
       "      <td>450000.0</td>\n",
       "      <td>MONDAY</td>\n",
       "      <td>7</td>\n",
       "      <td>...</td>\n",
       "      <td>XNA</td>\n",
       "      <td>12.0</td>\n",
       "      <td>middle</td>\n",
       "      <td>Cash X-Sell: middle</td>\n",
       "      <td>365243.0</td>\n",
       "      <td>-482.0</td>\n",
       "      <td>-152.0</td>\n",
       "      <td>-182.0</td>\n",
       "      <td>-177.0</td>\n",
       "      <td>1.0</td>\n",
       "    </tr>\n",
       "    <tr>\n",
       "      <th>4</th>\n",
       "      <td>1784265</td>\n",
       "      <td>202054</td>\n",
       "      <td>Cash loans</td>\n",
       "      <td>31924.395</td>\n",
       "      <td>337500.0</td>\n",
       "      <td>404055.0</td>\n",
       "      <td>NaN</td>\n",
       "      <td>337500.0</td>\n",
       "      <td>THURSDAY</td>\n",
       "      <td>9</td>\n",
       "      <td>...</td>\n",
       "      <td>XNA</td>\n",
       "      <td>24.0</td>\n",
       "      <td>high</td>\n",
       "      <td>Cash Street: high</td>\n",
       "      <td>NaN</td>\n",
       "      <td>NaN</td>\n",
       "      <td>NaN</td>\n",
       "      <td>NaN</td>\n",
       "      <td>NaN</td>\n",
       "      <td>NaN</td>\n",
       "    </tr>\n",
       "  </tbody>\n",
       "</table>\n",
       "<p>5 rows × 37 columns</p>\n",
       "</div>"
      ],
      "text/plain": [
       "   SK_ID_PREV  SK_ID_CURR NAME_CONTRACT_TYPE  AMT_ANNUITY  AMT_APPLICATION  \\\n",
       "0     2030495      271877     Consumer loans     1730.430          17145.0   \n",
       "1     2802425      108129         Cash loans    25188.615         607500.0   \n",
       "2     2523466      122040         Cash loans    15060.735         112500.0   \n",
       "3     2819243      176158         Cash loans    47041.335         450000.0   \n",
       "4     1784265      202054         Cash loans    31924.395         337500.0   \n",
       "\n",
       "   AMT_CREDIT  AMT_DOWN_PAYMENT  AMT_GOODS_PRICE WEEKDAY_APPR_PROCESS_START  \\\n",
       "0     17145.0               0.0          17145.0                   SATURDAY   \n",
       "1    679671.0               NaN         607500.0                   THURSDAY   \n",
       "2    136444.5               NaN         112500.0                    TUESDAY   \n",
       "3    470790.0               NaN         450000.0                     MONDAY   \n",
       "4    404055.0               NaN         337500.0                   THURSDAY   \n",
       "\n",
       "   HOUR_APPR_PROCESS_START  ... NAME_SELLER_INDUSTRY  CNT_PAYMENT  \\\n",
       "0                       15  ...         Connectivity         12.0   \n",
       "1                       11  ...                  XNA         36.0   \n",
       "2                       11  ...                  XNA         12.0   \n",
       "3                        7  ...                  XNA         12.0   \n",
       "4                        9  ...                  XNA         24.0   \n",
       "\n",
       "   NAME_YIELD_GROUP       PRODUCT_COMBINATION  DAYS_FIRST_DRAWING  \\\n",
       "0            middle  POS mobile with interest            365243.0   \n",
       "1        low_action          Cash X-Sell: low            365243.0   \n",
       "2              high         Cash X-Sell: high            365243.0   \n",
       "3            middle       Cash X-Sell: middle            365243.0   \n",
       "4              high         Cash Street: high                 NaN   \n",
       "\n",
       "  DAYS_FIRST_DUE DAYS_LAST_DUE_1ST_VERSION  DAYS_LAST_DUE DAYS_TERMINATION  \\\n",
       "0          -42.0                     300.0          -42.0            -37.0   \n",
       "1         -134.0                     916.0       365243.0         365243.0   \n",
       "2         -271.0                      59.0       365243.0         365243.0   \n",
       "3         -482.0                    -152.0         -182.0           -177.0   \n",
       "4            NaN                       NaN            NaN              NaN   \n",
       "\n",
       "  NFLAG_INSURED_ON_APPROVAL  \n",
       "0                       0.0  \n",
       "1                       1.0  \n",
       "2                       1.0  \n",
       "3                       1.0  \n",
       "4                       NaN  \n",
       "\n",
       "[5 rows x 37 columns]"
      ]
     },
     "execution_count": 51,
     "metadata": {},
     "output_type": "execute_result"
    }
   ],
   "source": [
    "# display previous loan data\n",
    "p_data.head()"
   ]
  },
  {
   "cell_type": "code",
   "execution_count": 52,
   "metadata": {},
   "outputs": [
    {
     "data": {
      "text/plain": [
       "SK_ID_CURR                     0.0\n",
       "TARGET                         0.0\n",
       "NAME_CONTRACT_TYPE             0.0\n",
       "CODE_GENDER                    0.0\n",
       "FLAG_OWN_CAR                   0.0\n",
       "                              ... \n",
       "AMT_REQ_CREDIT_BUREAU_DAY     13.5\n",
       "AMT_REQ_CREDIT_BUREAU_WEEK    13.5\n",
       "AMT_REQ_CREDIT_BUREAU_MON     13.5\n",
       "AMT_REQ_CREDIT_BUREAU_QRT     13.5\n",
       "AMT_REQ_CREDIT_BUREAU_YEAR    13.5\n",
       "Length: 122, dtype: float64"
      ]
     },
     "execution_count": 52,
     "metadata": {},
     "output_type": "execute_result"
    }
   ],
   "source": [
    "# Finding null value percentage for each column in application data\n",
    "round(100*(data.isnull().sum()/len(data)),2)"
   ]
  },
  {
   "cell_type": "code",
   "execution_count": 53,
   "metadata": {},
   "outputs": [
    {
     "data": {
      "text/plain": [
       "SK_ID_PREV                      0.00\n",
       "SK_ID_CURR                      0.00\n",
       "NAME_CONTRACT_TYPE              0.00\n",
       "AMT_ANNUITY                    22.29\n",
       "AMT_APPLICATION                 0.00\n",
       "AMT_CREDIT                      0.00\n",
       "AMT_DOWN_PAYMENT               53.64\n",
       "AMT_GOODS_PRICE                23.08\n",
       "WEEKDAY_APPR_PROCESS_START      0.00\n",
       "HOUR_APPR_PROCESS_START         0.00\n",
       "FLAG_LAST_APPL_PER_CONTRACT     0.00\n",
       "NFLAG_LAST_APPL_IN_DAY          0.00\n",
       "RATE_DOWN_PAYMENT              53.64\n",
       "RATE_INTEREST_PRIMARY          99.64\n",
       "RATE_INTEREST_PRIVILEGED       99.64\n",
       "NAME_CASH_LOAN_PURPOSE          0.00\n",
       "NAME_CONTRACT_STATUS            0.00\n",
       "DAYS_DECISION                   0.00\n",
       "NAME_PAYMENT_TYPE               0.00\n",
       "CODE_REJECT_REASON              0.00\n",
       "NAME_TYPE_SUITE                49.12\n",
       "NAME_CLIENT_TYPE                0.00\n",
       "NAME_GOODS_CATEGORY             0.00\n",
       "NAME_PORTFOLIO                  0.00\n",
       "NAME_PRODUCT_TYPE               0.00\n",
       "CHANNEL_TYPE                    0.00\n",
       "SELLERPLACE_AREA                0.00\n",
       "NAME_SELLER_INDUSTRY            0.00\n",
       "CNT_PAYMENT                    22.29\n",
       "NAME_YIELD_GROUP                0.00\n",
       "PRODUCT_COMBINATION             0.02\n",
       "DAYS_FIRST_DRAWING             40.30\n",
       "DAYS_FIRST_DUE                 40.30\n",
       "DAYS_LAST_DUE_1ST_VERSION      40.30\n",
       "DAYS_LAST_DUE                  40.30\n",
       "DAYS_TERMINATION               40.30\n",
       "NFLAG_INSURED_ON_APPROVAL      40.30\n",
       "dtype: float64"
      ]
     },
     "execution_count": 53,
     "metadata": {},
     "output_type": "execute_result"
    }
   ],
   "source": [
    "# Finding null value percentage for each column in previous loan data\n",
    "round(100*(p_data.isnull().sum()/len(p_data)),2)"
   ]
  },
  {
   "cell_type": "code",
   "execution_count": 54,
   "metadata": {},
   "outputs": [],
   "source": [
    "# creating a list of columns where null values are greater than 40% in application data & previous loan data\n",
    "missing_app_values = data.columns[100*data.isnull().sum()/len(data) > 40]\n",
    "missing_pdata_values = p_data.columns[100*p_data.isnull().sum()/len(p_data) > 30]"
   ]
  },
  {
   "cell_type": "code",
   "execution_count": 55,
   "metadata": {},
   "outputs": [
    {
     "name": "stdout",
     "output_type": "stream",
     "text": [
      "Index(['OWN_CAR_AGE', 'EXT_SOURCE_1', 'APARTMENTS_AVG', 'BASEMENTAREA_AVG',\n",
      "       'YEARS_BEGINEXPLUATATION_AVG', 'YEARS_BUILD_AVG', 'COMMONAREA_AVG',\n",
      "       'ELEVATORS_AVG', 'ENTRANCES_AVG', 'FLOORSMAX_AVG', 'FLOORSMIN_AVG',\n",
      "       'LANDAREA_AVG', 'LIVINGAPARTMENTS_AVG', 'LIVINGAREA_AVG',\n",
      "       'NONLIVINGAPARTMENTS_AVG', 'NONLIVINGAREA_AVG', 'APARTMENTS_MODE',\n",
      "       'BASEMENTAREA_MODE', 'YEARS_BEGINEXPLUATATION_MODE', 'YEARS_BUILD_MODE',\n",
      "       'COMMONAREA_MODE', 'ELEVATORS_MODE', 'ENTRANCES_MODE', 'FLOORSMAX_MODE',\n",
      "       'FLOORSMIN_MODE', 'LANDAREA_MODE', 'LIVINGAPARTMENTS_MODE',\n",
      "       'LIVINGAREA_MODE', 'NONLIVINGAPARTMENTS_MODE', 'NONLIVINGAREA_MODE',\n",
      "       'APARTMENTS_MEDI', 'BASEMENTAREA_MEDI', 'YEARS_BEGINEXPLUATATION_MEDI',\n",
      "       'YEARS_BUILD_MEDI', 'COMMONAREA_MEDI', 'ELEVATORS_MEDI',\n",
      "       'ENTRANCES_MEDI', 'FLOORSMAX_MEDI', 'FLOORSMIN_MEDI', 'LANDAREA_MEDI',\n",
      "       'LIVINGAPARTMENTS_MEDI', 'LIVINGAREA_MEDI', 'NONLIVINGAPARTMENTS_MEDI',\n",
      "       'NONLIVINGAREA_MEDI', 'FONDKAPREMONT_MODE', 'HOUSETYPE_MODE',\n",
      "       'TOTALAREA_MODE', 'WALLSMATERIAL_MODE', 'EMERGENCYSTATE_MODE'],\n",
      "      dtype='object')\n",
      "Index(['AMT_DOWN_PAYMENT', 'RATE_DOWN_PAYMENT', 'RATE_INTEREST_PRIMARY',\n",
      "       'RATE_INTEREST_PRIVILEGED', 'NAME_TYPE_SUITE', 'DAYS_FIRST_DRAWING',\n",
      "       'DAYS_FIRST_DUE', 'DAYS_LAST_DUE_1ST_VERSION', 'DAYS_LAST_DUE',\n",
      "       'DAYS_TERMINATION', 'NFLAG_INSURED_ON_APPROVAL'],\n",
      "      dtype='object')\n"
     ]
    }
   ],
   "source": [
    "print(missing_app_values)\n",
    "print(missing_pdata_values)"
   ]
  },
  {
   "cell_type": "code",
   "execution_count": 56,
   "metadata": {},
   "outputs": [
    {
     "name": "stdout",
     "output_type": "stream",
     "text": [
      "(307511, 73)\n",
      "(1670214, 26)\n"
     ]
    }
   ],
   "source": [
    "# dropping these columns because they have a high percentage of missing values\n",
    "data = data.drop(missing_app_values, axis = 1)\n",
    "p_data = p_data.drop(missing_pdata_values, axis = 1)\n",
    "print(data.shape)\n",
    "print(p_data.shape)"
   ]
  },
  {
   "cell_type": "code",
   "execution_count": 57,
   "metadata": {},
   "outputs": [],
   "source": [
    "# dropping unwanted columns that are of no use in this analysis\n",
    "unwanted_columns = ['FLAG_MOBIL', 'FLAG_EMP_PHONE', 'FLAG_WORK_PHONE', 'FLAG_CONT_MOBILE','FLAG_PHONE', 'FLAG_EMAIL','REGION_RATING_CLIENT','REGION_RATING_CLIENT_W_CITY','FLAG_EMAIL','CNT_FAM_MEMBERS', 'REGION_RATING_CLIENT',\n",
    "       'REGION_RATING_CLIENT_W_CITY','DAYS_LAST_PHONE_CHANGE', 'FLAG_DOCUMENT_2', 'FLAG_DOCUMENT_3','FLAG_DOCUMENT_4', 'FLAG_DOCUMENT_5', 'FLAG_DOCUMENT_6',\n",
    "       'FLAG_DOCUMENT_7', 'FLAG_DOCUMENT_8', 'FLAG_DOCUMENT_9','FLAG_DOCUMENT_10', 'FLAG_DOCUMENT_11', 'FLAG_DOCUMENT_12',\n",
    "       'FLAG_DOCUMENT_13', 'FLAG_DOCUMENT_14', 'FLAG_DOCUMENT_15','FLAG_DOCUMENT_16', 'FLAG_DOCUMENT_17', 'FLAG_DOCUMENT_18',\n",
    "       'FLAG_DOCUMENT_19', 'FLAG_DOCUMENT_20', 'FLAG_DOCUMENT_21']\n",
    "\n",
    "data.drop(labels=unwanted_columns, axis=1, inplace=True)"
   ]
  },
  {
   "cell_type": "code",
   "execution_count": 58,
   "metadata": {},
   "outputs": [],
   "source": [
    "# finding out columns that has missing value so that we can impute them\n",
    "impute_app_data = list(data.columns[100*(data.isnull().sum()/len(data))>0])"
   ]
  },
  {
   "cell_type": "code",
   "execution_count": 59,
   "metadata": {},
   "outputs": [
    {
     "data": {
      "text/plain": [
       "AMT_ANNUITY                      12\n",
       "AMT_GOODS_PRICE                 278\n",
       "NAME_TYPE_SUITE                1292\n",
       "OCCUPATION_TYPE               96391\n",
       "EXT_SOURCE_2                    660\n",
       "EXT_SOURCE_3                  60965\n",
       "OBS_30_CNT_SOCIAL_CIRCLE       1021\n",
       "DEF_30_CNT_SOCIAL_CIRCLE       1021\n",
       "OBS_60_CNT_SOCIAL_CIRCLE       1021\n",
       "DEF_60_CNT_SOCIAL_CIRCLE       1021\n",
       "AMT_REQ_CREDIT_BUREAU_HOUR    41519\n",
       "AMT_REQ_CREDIT_BUREAU_DAY     41519\n",
       "AMT_REQ_CREDIT_BUREAU_WEEK    41519\n",
       "AMT_REQ_CREDIT_BUREAU_MON     41519\n",
       "AMT_REQ_CREDIT_BUREAU_QRT     41519\n",
       "AMT_REQ_CREDIT_BUREAU_YEAR    41519\n",
       "dtype: int64"
      ]
     },
     "execution_count": 59,
     "metadata": {},
     "output_type": "execute_result"
    }
   ],
   "source": [
    "data[impute_app_data].isnull().sum()"
   ]
  },
  {
   "cell_type": "code",
   "execution_count": 60,
   "metadata": {},
   "outputs": [
    {
     "name": "stdout",
     "output_type": "stream",
     "text": [
      "AMT_ANNUITY                    24903.000000\n",
      "AMT_GOODS_PRICE               450000.000000\n",
      "EXT_SOURCE_2                       0.565961\n",
      "EXT_SOURCE_3                       0.535276\n",
      "OBS_30_CNT_SOCIAL_CIRCLE           0.000000\n",
      "DEF_30_CNT_SOCIAL_CIRCLE           0.000000\n",
      "OBS_60_CNT_SOCIAL_CIRCLE           0.000000\n",
      "DEF_60_CNT_SOCIAL_CIRCLE           0.000000\n",
      "AMT_REQ_CREDIT_BUREAU_HOUR         0.000000\n",
      "AMT_REQ_CREDIT_BUREAU_DAY          0.000000\n",
      "AMT_REQ_CREDIT_BUREAU_WEEK         0.000000\n",
      "AMT_REQ_CREDIT_BUREAU_MON          0.000000\n",
      "AMT_REQ_CREDIT_BUREAU_QRT          0.000000\n",
      "AMT_REQ_CREDIT_BUREAU_YEAR         1.000000\n",
      "dtype: float64\n"
     ]
    }
   ],
   "source": [
    "# Median of all the numerical columns\n",
    "median_app_miss = data[impute_app_data].median()\n",
    "print(median_app_miss)"
   ]
  },
  {
   "attachments": {},
   "cell_type": "markdown",
   "metadata": {},
   "source": [
    "- There are two categorical columns that has missing values, first is NAME_TYPE_SUITE which indicates that who was accompanying client when he was applying for the loan and another is OCCUPATION_TYPE which indicates that what kind of occupation does the client have.\n",
    "- So we can impute this as missing because it may not be provided by the applicant.\n"
   ]
  },
  {
   "cell_type": "code",
   "execution_count": 61,
   "metadata": {},
   "outputs": [
    {
     "name": "stdout",
     "output_type": "stream",
     "text": [
      "['AMT_ANNUITY', 'AMT_GOODS_PRICE', 'EXT_SOURCE_2', 'EXT_SOURCE_3', 'OBS_30_CNT_SOCIAL_CIRCLE', 'DEF_30_CNT_SOCIAL_CIRCLE', 'OBS_60_CNT_SOCIAL_CIRCLE', 'DEF_60_CNT_SOCIAL_CIRCLE', 'AMT_REQ_CREDIT_BUREAU_HOUR', 'AMT_REQ_CREDIT_BUREAU_DAY', 'AMT_REQ_CREDIT_BUREAU_WEEK', 'AMT_REQ_CREDIT_BUREAU_MON', 'AMT_REQ_CREDIT_BUREAU_QRT', 'AMT_REQ_CREDIT_BUREAU_YEAR']\n"
     ]
    }
   ],
   "source": [
    "data['OCCUPATION_TYPE'] = data['OCCUPATION_TYPE'].fillna('missing')\n",
    "data['NAME_TYPE_SUITE'] = data['NAME_TYPE_SUITE'].fillna('missing')\n",
    "data[impute_app_data].isnull().sum()\n",
    "# removing categorical variables from the impute_app_data list\n",
    "impute_app_data.remove('OCCUPATION_TYPE')\n",
    "impute_app_data.remove('NAME_TYPE_SUITE')\n",
    "# remaining are the numerical columns\n",
    "print(impute_app_data)"
   ]
  },
  {
   "cell_type": "markdown",
   "metadata": {},
   "source": [
    "- We handled the missing values in categorical columns, now its turn for numerical columns.\n",
    "- We need to impute the numerical values with median so it will not affect the analysis."
   ]
  },
  {
   "cell_type": "code",
   "execution_count": 62,
   "metadata": {},
   "outputs": [
    {
     "data": {
      "text/plain": [
       "AMT_ANNUITY                   0\n",
       "AMT_GOODS_PRICE               0\n",
       "EXT_SOURCE_2                  0\n",
       "EXT_SOURCE_3                  0\n",
       "OBS_30_CNT_SOCIAL_CIRCLE      0\n",
       "DEF_30_CNT_SOCIAL_CIRCLE      0\n",
       "OBS_60_CNT_SOCIAL_CIRCLE      0\n",
       "DEF_60_CNT_SOCIAL_CIRCLE      0\n",
       "AMT_REQ_CREDIT_BUREAU_HOUR    0\n",
       "AMT_REQ_CREDIT_BUREAU_DAY     0\n",
       "AMT_REQ_CREDIT_BUREAU_WEEK    0\n",
       "AMT_REQ_CREDIT_BUREAU_MON     0\n",
       "AMT_REQ_CREDIT_BUREAU_QRT     0\n",
       "AMT_REQ_CREDIT_BUREAU_YEAR    0\n",
       "dtype: int64"
      ]
     },
     "execution_count": 62,
     "metadata": {},
     "output_type": "execute_result"
    }
   ],
   "source": [
    "# imputed the missing values\n",
    "for i,j in zip(impute_app_data, median_app_miss):\n",
    "    data[i] = data[i].fillna(j)\n",
    "# again checking for missing values\n",
    "data[impute_app_data].isnull().sum()"
   ]
  },
  {
   "cell_type": "code",
   "execution_count": 63,
   "metadata": {},
   "outputs": [
    {
     "data": {
      "text/plain": [
       "0"
      ]
     },
     "execution_count": 63,
     "metadata": {},
     "output_type": "execute_result"
    }
   ],
   "source": [
    "# checking null values in whole dataset\n",
    "data.isnull().sum().sum()"
   ]
  },
  {
   "cell_type": "code",
   "execution_count": 64,
   "metadata": {},
   "outputs": [],
   "source": [
    "# columns to impute the missing values\n",
    "impute_p_data = list(p_data.columns[100*(p_data.isnull().sum()/len(p_data)) > 0])"
   ]
  },
  {
   "cell_type": "code",
   "execution_count": 65,
   "metadata": {},
   "outputs": [
    {
     "data": {
      "text/plain": [
       "AMT_ANNUITY            372235\n",
       "AMT_CREDIT                  1\n",
       "AMT_GOODS_PRICE        385515\n",
       "CNT_PAYMENT            372230\n",
       "PRODUCT_COMBINATION       346\n",
       "dtype: int64"
      ]
     },
     "execution_count": 65,
     "metadata": {},
     "output_type": "execute_result"
    }
   ],
   "source": [
    "# checking the null values in p_data dataframe\n",
    "p_data[impute_p_data].isnull().sum()"
   ]
  },
  {
   "cell_type": "code",
   "execution_count": 66,
   "metadata": {},
   "outputs": [
    {
     "data": {
      "text/html": [
       "<div>\n",
       "<style scoped>\n",
       "    .dataframe tbody tr th:only-of-type {\n",
       "        vertical-align: middle;\n",
       "    }\n",
       "\n",
       "    .dataframe tbody tr th {\n",
       "        vertical-align: top;\n",
       "    }\n",
       "\n",
       "    .dataframe thead th {\n",
       "        text-align: right;\n",
       "    }\n",
       "</style>\n",
       "<table border=\"1\" class=\"dataframe\">\n",
       "  <thead>\n",
       "    <tr style=\"text-align: right;\">\n",
       "      <th></th>\n",
       "      <th>count</th>\n",
       "      <th>mean</th>\n",
       "      <th>std</th>\n",
       "      <th>min</th>\n",
       "      <th>25%</th>\n",
       "      <th>50%</th>\n",
       "      <th>75%</th>\n",
       "      <th>max</th>\n",
       "    </tr>\n",
       "  </thead>\n",
       "  <tbody>\n",
       "    <tr>\n",
       "      <th>AMT_ANNUITY</th>\n",
       "      <td>1297979.0</td>\n",
       "      <td>15955.120659</td>\n",
       "      <td>14782.137335</td>\n",
       "      <td>0.0</td>\n",
       "      <td>6321.78</td>\n",
       "      <td>11250.0</td>\n",
       "      <td>20658.42</td>\n",
       "      <td>418058.145</td>\n",
       "    </tr>\n",
       "    <tr>\n",
       "      <th>AMT_CREDIT</th>\n",
       "      <td>1670213.0</td>\n",
       "      <td>196114.021218</td>\n",
       "      <td>318574.616546</td>\n",
       "      <td>0.0</td>\n",
       "      <td>24160.50</td>\n",
       "      <td>80541.0</td>\n",
       "      <td>216418.50</td>\n",
       "      <td>6905160.000</td>\n",
       "    </tr>\n",
       "    <tr>\n",
       "      <th>AMT_GOODS_PRICE</th>\n",
       "      <td>1284699.0</td>\n",
       "      <td>227847.279283</td>\n",
       "      <td>315396.557937</td>\n",
       "      <td>0.0</td>\n",
       "      <td>50841.00</td>\n",
       "      <td>112320.0</td>\n",
       "      <td>234000.00</td>\n",
       "      <td>6905160.000</td>\n",
       "    </tr>\n",
       "    <tr>\n",
       "      <th>CNT_PAYMENT</th>\n",
       "      <td>1297984.0</td>\n",
       "      <td>16.054082</td>\n",
       "      <td>14.567288</td>\n",
       "      <td>0.0</td>\n",
       "      <td>6.00</td>\n",
       "      <td>12.0</td>\n",
       "      <td>24.00</td>\n",
       "      <td>84.000</td>\n",
       "    </tr>\n",
       "  </tbody>\n",
       "</table>\n",
       "</div>"
      ],
      "text/plain": [
       "                     count           mean            std  min       25%  \\\n",
       "AMT_ANNUITY      1297979.0   15955.120659   14782.137335  0.0   6321.78   \n",
       "AMT_CREDIT       1670213.0  196114.021218  318574.616546  0.0  24160.50   \n",
       "AMT_GOODS_PRICE  1284699.0  227847.279283  315396.557937  0.0  50841.00   \n",
       "CNT_PAYMENT      1297984.0      16.054082      14.567288  0.0      6.00   \n",
       "\n",
       "                      50%        75%          max  \n",
       "AMT_ANNUITY       11250.0   20658.42   418058.145  \n",
       "AMT_CREDIT        80541.0  216418.50  6905160.000  \n",
       "AMT_GOODS_PRICE  112320.0  234000.00  6905160.000  \n",
       "CNT_PAYMENT          12.0      24.00       84.000  "
      ]
     },
     "execution_count": 66,
     "metadata": {},
     "output_type": "execute_result"
    }
   ],
   "source": [
    "# Describing the numerical columns of the columns to be imputed\n",
    "p_data[impute_p_data].describe().T"
   ]
  },
  {
   "cell_type": "code",
   "execution_count": 67,
   "metadata": {},
   "outputs": [
    {
     "data": {
      "text/plain": [
       "0    Cash\n",
       "dtype: object"
      ]
     },
     "execution_count": 67,
     "metadata": {},
     "output_type": "execute_result"
    }
   ],
   "source": [
    "p_data['PRODUCT_COMBINATION'].mode()"
   ]
  },
  {
   "cell_type": "code",
   "execution_count": 68,
   "metadata": {},
   "outputs": [
    {
     "data": {
      "text/plain": [
       "['AMT_ANNUITY', 'AMT_CREDIT', 'AMT_GOODS_PRICE', 'CNT_PAYMENT']"
      ]
     },
     "execution_count": 68,
     "metadata": {},
     "output_type": "execute_result"
    }
   ],
   "source": [
    "# imputing the categorical column with mode value because there are small amount of values to impute.\n",
    "p_data['PRODUCT_COMBINATION'] = p_data['PRODUCT_COMBINATION'].fillna('Cash')\n",
    "# removing categorical column from the list\n",
    "impute_p_data.remove('PRODUCT_COMBINATION')\n",
    "impute_p_data"
   ]
  },
  {
   "cell_type": "code",
   "execution_count": 69,
   "metadata": {},
   "outputs": [
    {
     "data": {
      "text/plain": [
       "AMT_ANNUITY        0\n",
       "AMT_CREDIT         0\n",
       "AMT_GOODS_PRICE    0\n",
       "CNT_PAYMENT        0\n",
       "dtype: int64"
      ]
     },
     "execution_count": 69,
     "metadata": {},
     "output_type": "execute_result"
    }
   ],
   "source": [
    "# imputing the numerical columns with median values\n",
    "for i, j in zip(impute_p_data, p_data[impute_p_data].median()):\n",
    "    p_data[i] = p_data[i].fillna(j)\n",
    "# again checking for missing values\n",
    "p_data[impute_p_data].isnull().sum()"
   ]
  },
  {
   "cell_type": "code",
   "execution_count": 70,
   "metadata": {},
   "outputs": [
    {
     "data": {
      "text/plain": [
       "0"
      ]
     },
     "execution_count": 70,
     "metadata": {},
     "output_type": "execute_result"
    }
   ],
   "source": [
    "p_data.isnull().sum().sum()"
   ]
  },
  {
   "cell_type": "code",
   "execution_count": 71,
   "metadata": {},
   "outputs": [
    {
     "name": "stdout",
     "output_type": "stream",
     "text": [
      "<class 'pandas.core.frame.DataFrame'>\n",
      "RangeIndex: 307511 entries, 0 to 307510\n",
      "Data columns (total 43 columns):\n",
      " #   Column                       Non-Null Count   Dtype  \n",
      "---  ------                       --------------   -----  \n",
      " 0   SK_ID_CURR                   307511 non-null  int64  \n",
      " 1   TARGET                       307511 non-null  int64  \n",
      " 2   NAME_CONTRACT_TYPE           307511 non-null  object \n",
      " 3   CODE_GENDER                  307511 non-null  object \n",
      " 4   FLAG_OWN_CAR                 307511 non-null  object \n",
      " 5   FLAG_OWN_REALTY              307511 non-null  object \n",
      " 6   CNT_CHILDREN                 307511 non-null  int64  \n",
      " 7   AMT_INCOME_TOTAL             307511 non-null  float64\n",
      " 8   AMT_CREDIT                   307511 non-null  float64\n",
      " 9   AMT_ANNUITY                  307511 non-null  float64\n",
      " 10  AMT_GOODS_PRICE              307511 non-null  float64\n",
      " 11  NAME_TYPE_SUITE              307511 non-null  object \n",
      " 12  NAME_INCOME_TYPE             307511 non-null  object \n",
      " 13  NAME_EDUCATION_TYPE          307511 non-null  object \n",
      " 14  NAME_FAMILY_STATUS           307511 non-null  object \n",
      " 15  NAME_HOUSING_TYPE            307511 non-null  object \n",
      " 16  REGION_POPULATION_RELATIVE   307511 non-null  float64\n",
      " 17  DAYS_BIRTH                   307511 non-null  int64  \n",
      " 18  DAYS_EMPLOYED                307511 non-null  int64  \n",
      " 19  DAYS_REGISTRATION            307511 non-null  float64\n",
      " 20  DAYS_ID_PUBLISH              307511 non-null  int64  \n",
      " 21  OCCUPATION_TYPE              307511 non-null  object \n",
      " 22  WEEKDAY_APPR_PROCESS_START   307511 non-null  object \n",
      " 23  HOUR_APPR_PROCESS_START      307511 non-null  int64  \n",
      " 24  REG_REGION_NOT_LIVE_REGION   307511 non-null  int64  \n",
      " 25  REG_REGION_NOT_WORK_REGION   307511 non-null  int64  \n",
      " 26  LIVE_REGION_NOT_WORK_REGION  307511 non-null  int64  \n",
      " 27  REG_CITY_NOT_LIVE_CITY       307511 non-null  int64  \n",
      " 28  REG_CITY_NOT_WORK_CITY       307511 non-null  int64  \n",
      " 29  LIVE_CITY_NOT_WORK_CITY      307511 non-null  int64  \n",
      " 30  ORGANIZATION_TYPE            307511 non-null  object \n",
      " 31  EXT_SOURCE_2                 307511 non-null  float64\n",
      " 32  EXT_SOURCE_3                 307511 non-null  float64\n",
      " 33  OBS_30_CNT_SOCIAL_CIRCLE     307511 non-null  float64\n",
      " 34  DEF_30_CNT_SOCIAL_CIRCLE     307511 non-null  float64\n",
      " 35  OBS_60_CNT_SOCIAL_CIRCLE     307511 non-null  float64\n",
      " 36  DEF_60_CNT_SOCIAL_CIRCLE     307511 non-null  float64\n",
      " 37  AMT_REQ_CREDIT_BUREAU_HOUR   307511 non-null  float64\n",
      " 38  AMT_REQ_CREDIT_BUREAU_DAY    307511 non-null  float64\n",
      " 39  AMT_REQ_CREDIT_BUREAU_WEEK   307511 non-null  float64\n",
      " 40  AMT_REQ_CREDIT_BUREAU_MON    307511 non-null  float64\n",
      " 41  AMT_REQ_CREDIT_BUREAU_QRT    307511 non-null  float64\n",
      " 42  AMT_REQ_CREDIT_BUREAU_YEAR   307511 non-null  float64\n",
      "dtypes: float64(18), int64(13), object(12)\n",
      "memory usage: 100.9+ MB\n"
     ]
    }
   ],
   "source": [
    "# checking info on application data \n",
    "data.info()"
   ]
  },
  {
   "cell_type": "code",
   "execution_count": 72,
   "metadata": {
    "scrolled": true
   },
   "outputs": [
    {
     "name": "stdout",
     "output_type": "stream",
     "text": [
      "NAME_CONTRACT_TYPE = ['Cash loans' 'Revolving loans']\n",
      "CODE_GENDER = ['M' 'F' 'XNA']\n",
      "FLAG_OWN_CAR = ['N' 'Y']\n",
      "FLAG_OWN_REALTY = ['Y' 'N']\n",
      "NAME_TYPE_SUITE = ['Unaccompanied' 'Family' 'Spouse, partner' 'Children' 'Other_A' 'missing'\n",
      " 'Other_B' 'Group of people']\n",
      "NAME_INCOME_TYPE = ['Working' 'State servant' 'Commercial associate' 'Pensioner' 'Unemployed'\n",
      " 'Student' 'Businessman' 'Maternity leave']\n",
      "NAME_EDUCATION_TYPE = ['Secondary / secondary special' 'Higher education' 'Incomplete higher'\n",
      " 'Lower secondary' 'Academic degree']\n",
      "NAME_FAMILY_STATUS = ['Single / not married' 'Married' 'Civil marriage' 'Widow' 'Separated'\n",
      " 'Unknown']\n",
      "NAME_HOUSING_TYPE = ['House / apartment' 'Rented apartment' 'With parents'\n",
      " 'Municipal apartment' 'Office apartment' 'Co-op apartment']\n",
      "OCCUPATION_TYPE = ['Laborers' 'Core staff' 'Accountants' 'Managers' 'missing' 'Drivers'\n",
      " 'Sales staff' 'Cleaning staff' 'Cooking staff' 'Private service staff'\n",
      " 'Medicine staff' 'Security staff' 'High skill tech staff'\n",
      " 'Waiters/barmen staff' 'Low-skill Laborers' 'Realty agents' 'Secretaries'\n",
      " 'IT staff' 'HR staff']\n",
      "WEEKDAY_APPR_PROCESS_START = ['WEDNESDAY' 'MONDAY' 'THURSDAY' 'SUNDAY' 'SATURDAY' 'FRIDAY' 'TUESDAY']\n",
      "ORGANIZATION_TYPE = ['Business Entity Type 3' 'School' 'Government' 'Religion' 'Other' 'XNA'\n",
      " 'Electricity' 'Medicine' 'Business Entity Type 2' 'Self-employed'\n",
      " 'Transport: type 2' 'Construction' 'Housing' 'Kindergarten'\n",
      " 'Trade: type 7' 'Industry: type 11' 'Military' 'Services'\n",
      " 'Security Ministries' 'Transport: type 4' 'Industry: type 1' 'Emergency'\n",
      " 'Security' 'Trade: type 2' 'University' 'Transport: type 3' 'Police'\n",
      " 'Business Entity Type 1' 'Postal' 'Industry: type 4' 'Agriculture'\n",
      " 'Restaurant' 'Culture' 'Hotel' 'Industry: type 7' 'Trade: type 3'\n",
      " 'Industry: type 3' 'Bank' 'Industry: type 9' 'Insurance' 'Trade: type 6'\n",
      " 'Industry: type 2' 'Transport: type 1' 'Industry: type 12' 'Mobile'\n",
      " 'Trade: type 1' 'Industry: type 5' 'Industry: type 10' 'Legal Services'\n",
      " 'Advertising' 'Trade: type 5' 'Cleaning' 'Industry: type 13'\n",
      " 'Trade: type 4' 'Telecom' 'Industry: type 8' 'Realtor' 'Industry: type 6']\n"
     ]
    }
   ],
   "source": [
    "# printing all the unique values of the categorical column so that we can check whether there are any garbage values or not.\n",
    "for i in data:\n",
    "    if data[i].dtype == 'object':     \n",
    "        print(f'{i} = {data[i].unique()}')"
   ]
  },
  {
   "cell_type": "code",
   "execution_count": 73,
   "metadata": {},
   "outputs": [
    {
     "data": {
      "text/plain": [
       "F      202448\n",
       "M      105059\n",
       "XNA         4\n",
       "Name: CODE_GENDER, dtype: int64"
      ]
     },
     "execution_count": 73,
     "metadata": {},
     "output_type": "execute_result"
    }
   ],
   "source": [
    "# We can see from above that 'XNA' values are present in gender column which does not make sense\n",
    "data.CODE_GENDER.value_counts()"
   ]
  },
  {
   "cell_type": "markdown",
   "metadata": {},
   "source": [
    "- These XNA values are null values which we have to fix by imputing them with the greater number of variable."
   ]
  },
  {
   "cell_type": "code",
   "execution_count": 74,
   "metadata": {},
   "outputs": [],
   "source": [
    "# take the mode of the gender column to impute\n",
    "data.loc[data['CODE_GENDER'] == 'XNA', 'CODE_GENDER'] = data['CODE_GENDER'].mode()"
   ]
  },
  {
   "cell_type": "code",
   "execution_count": 75,
   "metadata": {},
   "outputs": [
    {
     "data": {
      "text/plain": [
       "F    202448\n",
       "M    105059\n",
       "Name: CODE_GENDER, dtype: int64"
      ]
     },
     "execution_count": 75,
     "metadata": {},
     "output_type": "execute_result"
    }
   ],
   "source": [
    "# Imputed the 'XNA' values\n",
    "data.CODE_GENDER.value_counts()"
   ]
  },
  {
   "cell_type": "code",
   "execution_count": 76,
   "metadata": {},
   "outputs": [
    {
     "data": {
      "text/plain": [
       "array(['Business Entity Type 3', 'School', 'Government', 'Religion',\n",
       "       'Other', 'XNA', 'Electricity', 'Medicine',\n",
       "       'Business Entity Type 2', 'Self-employed', 'Transport: type 2',\n",
       "       'Construction', 'Housing', 'Kindergarten', 'Trade: type 7',\n",
       "       'Industry: type 11', 'Military', 'Services', 'Security Ministries',\n",
       "       'Transport: type 4', 'Industry: type 1', 'Emergency', 'Security',\n",
       "       'Trade: type 2', 'University', 'Transport: type 3', 'Police',\n",
       "       'Business Entity Type 1', 'Postal', 'Industry: type 4',\n",
       "       'Agriculture', 'Restaurant', 'Culture', 'Hotel',\n",
       "       'Industry: type 7', 'Trade: type 3', 'Industry: type 3', 'Bank',\n",
       "       'Industry: type 9', 'Insurance', 'Trade: type 6',\n",
       "       'Industry: type 2', 'Transport: type 1', 'Industry: type 12',\n",
       "       'Mobile', 'Trade: type 1', 'Industry: type 5', 'Industry: type 10',\n",
       "       'Legal Services', 'Advertising', 'Trade: type 5', 'Cleaning',\n",
       "       'Industry: type 13', 'Trade: type 4', 'Telecom',\n",
       "       'Industry: type 8', 'Realtor', 'Industry: type 6'], dtype=object)"
      ]
     },
     "execution_count": 76,
     "metadata": {},
     "output_type": "execute_result"
    }
   ],
   "source": [
    "# 'XNA' values are also present in this column\n",
    "data['ORGANIZATION_TYPE'].unique()"
   ]
  },
  {
   "cell_type": "code",
   "execution_count": 77,
   "metadata": {},
   "outputs": [
    {
     "data": {
      "text/plain": [
       "Business Entity Type 3    22.110429\n",
       "XNA                       18.007161\n",
       "Self-employed             12.491260\n",
       "Other                      5.425172\n",
       "Medicine                   3.639870\n",
       "Business Entity Type 2     3.431747\n",
       "Government                 3.383294\n",
       "School                     2.891929\n",
       "Trade: type 7              2.546576\n",
       "Kindergarten               2.237318\n",
       "Construction               2.185613\n",
       "Business Entity Type 1     1.945947\n",
       "Transport: type 4          1.755384\n",
       "Trade: type 3              1.135569\n",
       "Industry: type 9           1.095245\n",
       "Industry: type 3           1.065978\n",
       "Security                   1.055897\n",
       "Housing                    0.961917\n",
       "Industry: type 11          0.879318\n",
       "Military                   0.856555\n",
       "Bank                       0.815255\n",
       "Agriculture                0.798020\n",
       "Police                     0.761274\n",
       "Transport: type 2          0.716722\n",
       "Postal                     0.701438\n",
       "Security Ministries        0.641928\n",
       "Trade: type 2              0.617864\n",
       "Restaurant                 0.588922\n",
       "Services                   0.512177\n",
       "University                 0.431529\n",
       "Industry: type 7           0.425025\n",
       "Transport: type 3          0.386002\n",
       "Industry: type 1           0.337874\n",
       "Hotel                      0.314135\n",
       "Electricity                0.308932\n",
       "Industry: type 4           0.285193\n",
       "Trade: type 6              0.205196\n",
       "Industry: type 5           0.194790\n",
       "Insurance                  0.194139\n",
       "Telecom                    0.187636\n",
       "Emergency                  0.182107\n",
       "Industry: type 2           0.148938\n",
       "Advertising                0.139507\n",
       "Realtor                    0.128776\n",
       "Culture                    0.123248\n",
       "Industry: type 12          0.119996\n",
       "Trade: type 1              0.113167\n",
       "Mobile                     0.103086\n",
       "Legal Services             0.099183\n",
       "Cleaning                   0.084550\n",
       "Transport: type 1          0.065364\n",
       "Industry: type 6           0.036421\n",
       "Industry: type 10          0.035446\n",
       "Religion                   0.027641\n",
       "Industry: type 13          0.021788\n",
       "Trade: type 4              0.020812\n",
       "Trade: type 5              0.015934\n",
       "Industry: type 8           0.007805\n",
       "Name: ORGANIZATION_TYPE, dtype: float64"
      ]
     },
     "execution_count": 77,
     "metadata": {},
     "output_type": "execute_result"
    }
   ],
   "source": [
    "data['ORGANIZATION_TYPE'].value_counts(normalize = True)*100"
   ]
  },
  {
   "cell_type": "markdown",
   "metadata": {},
   "source": [
    "- In this second highest values are 'XNA' values consist of 18% of column, we need to remove this rows containing these values, it will not impact much if we drop the 'XNA' values."
   ]
  },
  {
   "cell_type": "code",
   "execution_count": 78,
   "metadata": {},
   "outputs": [
    {
     "data": {
      "text/html": [
       "<div>\n",
       "<style scoped>\n",
       "    .dataframe tbody tr th:only-of-type {\n",
       "        vertical-align: middle;\n",
       "    }\n",
       "\n",
       "    .dataframe tbody tr th {\n",
       "        vertical-align: top;\n",
       "    }\n",
       "\n",
       "    .dataframe thead th {\n",
       "        text-align: right;\n",
       "    }\n",
       "</style>\n",
       "<table border=\"1\" class=\"dataframe\">\n",
       "  <thead>\n",
       "    <tr style=\"text-align: right;\">\n",
       "      <th></th>\n",
       "      <th>SK_ID_CURR</th>\n",
       "      <th>TARGET</th>\n",
       "      <th>NAME_CONTRACT_TYPE</th>\n",
       "      <th>CODE_GENDER</th>\n",
       "      <th>FLAG_OWN_CAR</th>\n",
       "      <th>FLAG_OWN_REALTY</th>\n",
       "      <th>CNT_CHILDREN</th>\n",
       "      <th>AMT_INCOME_TOTAL</th>\n",
       "      <th>AMT_CREDIT</th>\n",
       "      <th>AMT_ANNUITY</th>\n",
       "      <th>...</th>\n",
       "      <th>OBS_30_CNT_SOCIAL_CIRCLE</th>\n",
       "      <th>DEF_30_CNT_SOCIAL_CIRCLE</th>\n",
       "      <th>OBS_60_CNT_SOCIAL_CIRCLE</th>\n",
       "      <th>DEF_60_CNT_SOCIAL_CIRCLE</th>\n",
       "      <th>AMT_REQ_CREDIT_BUREAU_HOUR</th>\n",
       "      <th>AMT_REQ_CREDIT_BUREAU_DAY</th>\n",
       "      <th>AMT_REQ_CREDIT_BUREAU_WEEK</th>\n",
       "      <th>AMT_REQ_CREDIT_BUREAU_MON</th>\n",
       "      <th>AMT_REQ_CREDIT_BUREAU_QRT</th>\n",
       "      <th>AMT_REQ_CREDIT_BUREAU_YEAR</th>\n",
       "    </tr>\n",
       "  </thead>\n",
       "  <tbody>\n",
       "    <tr>\n",
       "      <th>0</th>\n",
       "      <td>100002</td>\n",
       "      <td>1</td>\n",
       "      <td>Cash loans</td>\n",
       "      <td>M</td>\n",
       "      <td>N</td>\n",
       "      <td>Y</td>\n",
       "      <td>0</td>\n",
       "      <td>202500.0</td>\n",
       "      <td>406597.5</td>\n",
       "      <td>24700.5</td>\n",
       "      <td>...</td>\n",
       "      <td>2.0</td>\n",
       "      <td>2.0</td>\n",
       "      <td>2.0</td>\n",
       "      <td>2.0</td>\n",
       "      <td>0.0</td>\n",
       "      <td>0.0</td>\n",
       "      <td>0.0</td>\n",
       "      <td>0.0</td>\n",
       "      <td>0.0</td>\n",
       "      <td>1.0</td>\n",
       "    </tr>\n",
       "    <tr>\n",
       "      <th>1</th>\n",
       "      <td>100003</td>\n",
       "      <td>0</td>\n",
       "      <td>Cash loans</td>\n",
       "      <td>F</td>\n",
       "      <td>N</td>\n",
       "      <td>N</td>\n",
       "      <td>0</td>\n",
       "      <td>270000.0</td>\n",
       "      <td>1293502.5</td>\n",
       "      <td>35698.5</td>\n",
       "      <td>...</td>\n",
       "      <td>1.0</td>\n",
       "      <td>0.0</td>\n",
       "      <td>1.0</td>\n",
       "      <td>0.0</td>\n",
       "      <td>0.0</td>\n",
       "      <td>0.0</td>\n",
       "      <td>0.0</td>\n",
       "      <td>0.0</td>\n",
       "      <td>0.0</td>\n",
       "      <td>0.0</td>\n",
       "    </tr>\n",
       "    <tr>\n",
       "      <th>2</th>\n",
       "      <td>100004</td>\n",
       "      <td>0</td>\n",
       "      <td>Revolving loans</td>\n",
       "      <td>M</td>\n",
       "      <td>Y</td>\n",
       "      <td>Y</td>\n",
       "      <td>0</td>\n",
       "      <td>67500.0</td>\n",
       "      <td>135000.0</td>\n",
       "      <td>6750.0</td>\n",
       "      <td>...</td>\n",
       "      <td>0.0</td>\n",
       "      <td>0.0</td>\n",
       "      <td>0.0</td>\n",
       "      <td>0.0</td>\n",
       "      <td>0.0</td>\n",
       "      <td>0.0</td>\n",
       "      <td>0.0</td>\n",
       "      <td>0.0</td>\n",
       "      <td>0.0</td>\n",
       "      <td>0.0</td>\n",
       "    </tr>\n",
       "    <tr>\n",
       "      <th>3</th>\n",
       "      <td>100006</td>\n",
       "      <td>0</td>\n",
       "      <td>Cash loans</td>\n",
       "      <td>F</td>\n",
       "      <td>N</td>\n",
       "      <td>Y</td>\n",
       "      <td>0</td>\n",
       "      <td>135000.0</td>\n",
       "      <td>312682.5</td>\n",
       "      <td>29686.5</td>\n",
       "      <td>...</td>\n",
       "      <td>2.0</td>\n",
       "      <td>0.0</td>\n",
       "      <td>2.0</td>\n",
       "      <td>0.0</td>\n",
       "      <td>0.0</td>\n",
       "      <td>0.0</td>\n",
       "      <td>0.0</td>\n",
       "      <td>0.0</td>\n",
       "      <td>0.0</td>\n",
       "      <td>1.0</td>\n",
       "    </tr>\n",
       "    <tr>\n",
       "      <th>4</th>\n",
       "      <td>100007</td>\n",
       "      <td>0</td>\n",
       "      <td>Cash loans</td>\n",
       "      <td>M</td>\n",
       "      <td>N</td>\n",
       "      <td>Y</td>\n",
       "      <td>0</td>\n",
       "      <td>121500.0</td>\n",
       "      <td>513000.0</td>\n",
       "      <td>21865.5</td>\n",
       "      <td>...</td>\n",
       "      <td>0.0</td>\n",
       "      <td>0.0</td>\n",
       "      <td>0.0</td>\n",
       "      <td>0.0</td>\n",
       "      <td>0.0</td>\n",
       "      <td>0.0</td>\n",
       "      <td>0.0</td>\n",
       "      <td>0.0</td>\n",
       "      <td>0.0</td>\n",
       "      <td>0.0</td>\n",
       "    </tr>\n",
       "    <tr>\n",
       "      <th>...</th>\n",
       "      <td>...</td>\n",
       "      <td>...</td>\n",
       "      <td>...</td>\n",
       "      <td>...</td>\n",
       "      <td>...</td>\n",
       "      <td>...</td>\n",
       "      <td>...</td>\n",
       "      <td>...</td>\n",
       "      <td>...</td>\n",
       "      <td>...</td>\n",
       "      <td>...</td>\n",
       "      <td>...</td>\n",
       "      <td>...</td>\n",
       "      <td>...</td>\n",
       "      <td>...</td>\n",
       "      <td>...</td>\n",
       "      <td>...</td>\n",
       "      <td>...</td>\n",
       "      <td>...</td>\n",
       "      <td>...</td>\n",
       "      <td>...</td>\n",
       "    </tr>\n",
       "    <tr>\n",
       "      <th>252132</th>\n",
       "      <td>456248</td>\n",
       "      <td>0</td>\n",
       "      <td>Cash loans</td>\n",
       "      <td>F</td>\n",
       "      <td>N</td>\n",
       "      <td>Y</td>\n",
       "      <td>0</td>\n",
       "      <td>153000.0</td>\n",
       "      <td>331920.0</td>\n",
       "      <td>16096.5</td>\n",
       "      <td>...</td>\n",
       "      <td>0.0</td>\n",
       "      <td>0.0</td>\n",
       "      <td>0.0</td>\n",
       "      <td>0.0</td>\n",
       "      <td>0.0</td>\n",
       "      <td>0.0</td>\n",
       "      <td>0.0</td>\n",
       "      <td>0.0</td>\n",
       "      <td>0.0</td>\n",
       "      <td>1.0</td>\n",
       "    </tr>\n",
       "    <tr>\n",
       "      <th>252133</th>\n",
       "      <td>456251</td>\n",
       "      <td>0</td>\n",
       "      <td>Cash loans</td>\n",
       "      <td>M</td>\n",
       "      <td>N</td>\n",
       "      <td>N</td>\n",
       "      <td>0</td>\n",
       "      <td>157500.0</td>\n",
       "      <td>254700.0</td>\n",
       "      <td>27558.0</td>\n",
       "      <td>...</td>\n",
       "      <td>0.0</td>\n",
       "      <td>0.0</td>\n",
       "      <td>0.0</td>\n",
       "      <td>0.0</td>\n",
       "      <td>0.0</td>\n",
       "      <td>0.0</td>\n",
       "      <td>0.0</td>\n",
       "      <td>0.0</td>\n",
       "      <td>0.0</td>\n",
       "      <td>1.0</td>\n",
       "    </tr>\n",
       "    <tr>\n",
       "      <th>252134</th>\n",
       "      <td>456253</td>\n",
       "      <td>0</td>\n",
       "      <td>Cash loans</td>\n",
       "      <td>F</td>\n",
       "      <td>N</td>\n",
       "      <td>Y</td>\n",
       "      <td>0</td>\n",
       "      <td>153000.0</td>\n",
       "      <td>677664.0</td>\n",
       "      <td>29979.0</td>\n",
       "      <td>...</td>\n",
       "      <td>6.0</td>\n",
       "      <td>0.0</td>\n",
       "      <td>6.0</td>\n",
       "      <td>0.0</td>\n",
       "      <td>1.0</td>\n",
       "      <td>0.0</td>\n",
       "      <td>0.0</td>\n",
       "      <td>1.0</td>\n",
       "      <td>0.0</td>\n",
       "      <td>1.0</td>\n",
       "    </tr>\n",
       "    <tr>\n",
       "      <th>252135</th>\n",
       "      <td>456254</td>\n",
       "      <td>1</td>\n",
       "      <td>Cash loans</td>\n",
       "      <td>F</td>\n",
       "      <td>N</td>\n",
       "      <td>Y</td>\n",
       "      <td>0</td>\n",
       "      <td>171000.0</td>\n",
       "      <td>370107.0</td>\n",
       "      <td>20205.0</td>\n",
       "      <td>...</td>\n",
       "      <td>0.0</td>\n",
       "      <td>0.0</td>\n",
       "      <td>0.0</td>\n",
       "      <td>0.0</td>\n",
       "      <td>0.0</td>\n",
       "      <td>0.0</td>\n",
       "      <td>0.0</td>\n",
       "      <td>0.0</td>\n",
       "      <td>0.0</td>\n",
       "      <td>0.0</td>\n",
       "    </tr>\n",
       "    <tr>\n",
       "      <th>252136</th>\n",
       "      <td>456255</td>\n",
       "      <td>0</td>\n",
       "      <td>Cash loans</td>\n",
       "      <td>F</td>\n",
       "      <td>N</td>\n",
       "      <td>N</td>\n",
       "      <td>0</td>\n",
       "      <td>157500.0</td>\n",
       "      <td>675000.0</td>\n",
       "      <td>49117.5</td>\n",
       "      <td>...</td>\n",
       "      <td>0.0</td>\n",
       "      <td>0.0</td>\n",
       "      <td>0.0</td>\n",
       "      <td>0.0</td>\n",
       "      <td>0.0</td>\n",
       "      <td>0.0</td>\n",
       "      <td>0.0</td>\n",
       "      <td>2.0</td>\n",
       "      <td>0.0</td>\n",
       "      <td>1.0</td>\n",
       "    </tr>\n",
       "  </tbody>\n",
       "</table>\n",
       "<p>252137 rows × 43 columns</p>\n",
       "</div>"
      ],
      "text/plain": [
       "        SK_ID_CURR  TARGET NAME_CONTRACT_TYPE CODE_GENDER FLAG_OWN_CAR  \\\n",
       "0           100002       1         Cash loans           M            N   \n",
       "1           100003       0         Cash loans           F            N   \n",
       "2           100004       0    Revolving loans           M            Y   \n",
       "3           100006       0         Cash loans           F            N   \n",
       "4           100007       0         Cash loans           M            N   \n",
       "...            ...     ...                ...         ...          ...   \n",
       "252132      456248       0         Cash loans           F            N   \n",
       "252133      456251       0         Cash loans           M            N   \n",
       "252134      456253       0         Cash loans           F            N   \n",
       "252135      456254       1         Cash loans           F            N   \n",
       "252136      456255       0         Cash loans           F            N   \n",
       "\n",
       "       FLAG_OWN_REALTY  CNT_CHILDREN  AMT_INCOME_TOTAL  AMT_CREDIT  \\\n",
       "0                    Y             0          202500.0    406597.5   \n",
       "1                    N             0          270000.0   1293502.5   \n",
       "2                    Y             0           67500.0    135000.0   \n",
       "3                    Y             0          135000.0    312682.5   \n",
       "4                    Y             0          121500.0    513000.0   \n",
       "...                ...           ...               ...         ...   \n",
       "252132               Y             0          153000.0    331920.0   \n",
       "252133               N             0          157500.0    254700.0   \n",
       "252134               Y             0          153000.0    677664.0   \n",
       "252135               Y             0          171000.0    370107.0   \n",
       "252136               N             0          157500.0    675000.0   \n",
       "\n",
       "        AMT_ANNUITY  ...  OBS_30_CNT_SOCIAL_CIRCLE DEF_30_CNT_SOCIAL_CIRCLE  \\\n",
       "0           24700.5  ...                       2.0                      2.0   \n",
       "1           35698.5  ...                       1.0                      0.0   \n",
       "2            6750.0  ...                       0.0                      0.0   \n",
       "3           29686.5  ...                       2.0                      0.0   \n",
       "4           21865.5  ...                       0.0                      0.0   \n",
       "...             ...  ...                       ...                      ...   \n",
       "252132      16096.5  ...                       0.0                      0.0   \n",
       "252133      27558.0  ...                       0.0                      0.0   \n",
       "252134      29979.0  ...                       6.0                      0.0   \n",
       "252135      20205.0  ...                       0.0                      0.0   \n",
       "252136      49117.5  ...                       0.0                      0.0   \n",
       "\n",
       "       OBS_60_CNT_SOCIAL_CIRCLE DEF_60_CNT_SOCIAL_CIRCLE  \\\n",
       "0                           2.0                      2.0   \n",
       "1                           1.0                      0.0   \n",
       "2                           0.0                      0.0   \n",
       "3                           2.0                      0.0   \n",
       "4                           0.0                      0.0   \n",
       "...                         ...                      ...   \n",
       "252132                      0.0                      0.0   \n",
       "252133                      0.0                      0.0   \n",
       "252134                      6.0                      0.0   \n",
       "252135                      0.0                      0.0   \n",
       "252136                      0.0                      0.0   \n",
       "\n",
       "       AMT_REQ_CREDIT_BUREAU_HOUR AMT_REQ_CREDIT_BUREAU_DAY  \\\n",
       "0                             0.0                       0.0   \n",
       "1                             0.0                       0.0   \n",
       "2                             0.0                       0.0   \n",
       "3                             0.0                       0.0   \n",
       "4                             0.0                       0.0   \n",
       "...                           ...                       ...   \n",
       "252132                        0.0                       0.0   \n",
       "252133                        0.0                       0.0   \n",
       "252134                        1.0                       0.0   \n",
       "252135                        0.0                       0.0   \n",
       "252136                        0.0                       0.0   \n",
       "\n",
       "        AMT_REQ_CREDIT_BUREAU_WEEK  AMT_REQ_CREDIT_BUREAU_MON  \\\n",
       "0                              0.0                        0.0   \n",
       "1                              0.0                        0.0   \n",
       "2                              0.0                        0.0   \n",
       "3                              0.0                        0.0   \n",
       "4                              0.0                        0.0   \n",
       "...                            ...                        ...   \n",
       "252132                         0.0                        0.0   \n",
       "252133                         0.0                        0.0   \n",
       "252134                         0.0                        1.0   \n",
       "252135                         0.0                        0.0   \n",
       "252136                         0.0                        2.0   \n",
       "\n",
       "        AMT_REQ_CREDIT_BUREAU_QRT  AMT_REQ_CREDIT_BUREAU_YEAR  \n",
       "0                             0.0                         1.0  \n",
       "1                             0.0                         0.0  \n",
       "2                             0.0                         0.0  \n",
       "3                             0.0                         1.0  \n",
       "4                             0.0                         0.0  \n",
       "...                           ...                         ...  \n",
       "252132                        0.0                         1.0  \n",
       "252133                        0.0                         1.0  \n",
       "252134                        0.0                         1.0  \n",
       "252135                        0.0                         0.0  \n",
       "252136                        0.0                         1.0  \n",
       "\n",
       "[252137 rows x 43 columns]"
      ]
     },
     "execution_count": 78,
     "metadata": {},
     "output_type": "execute_result"
    }
   ],
   "source": [
    "data = data[~(data['ORGANIZATION_TYPE'] == 'XNA')].reset_index(drop = True)\n",
    "data"
   ]
  },
  {
   "cell_type": "code",
   "execution_count": 79,
   "metadata": {},
   "outputs": [
    {
     "data": {
      "text/html": [
       "<div>\n",
       "<style scoped>\n",
       "    .dataframe tbody tr th:only-of-type {\n",
       "        vertical-align: middle;\n",
       "    }\n",
       "\n",
       "    .dataframe tbody tr th {\n",
       "        vertical-align: top;\n",
       "    }\n",
       "\n",
       "    .dataframe thead th {\n",
       "        text-align: right;\n",
       "    }\n",
       "</style>\n",
       "<table border=\"1\" class=\"dataframe\">\n",
       "  <thead>\n",
       "    <tr style=\"text-align: right;\">\n",
       "      <th></th>\n",
       "      <th>count</th>\n",
       "      <th>mean</th>\n",
       "      <th>std</th>\n",
       "      <th>min</th>\n",
       "      <th>25%</th>\n",
       "      <th>50%</th>\n",
       "      <th>75%</th>\n",
       "      <th>max</th>\n",
       "    </tr>\n",
       "  </thead>\n",
       "  <tbody>\n",
       "    <tr>\n",
       "      <th>SK_ID_CURR</th>\n",
       "      <td>252137.0</td>\n",
       "      <td>278114.643103</td>\n",
       "      <td>102815.635309</td>\n",
       "      <td>1.000020e+05</td>\n",
       "      <td>189035.000000</td>\n",
       "      <td>278064.000000</td>\n",
       "      <td>367165.000000</td>\n",
       "      <td>4.562550e+05</td>\n",
       "    </tr>\n",
       "    <tr>\n",
       "      <th>TARGET</th>\n",
       "      <td>252137.0</td>\n",
       "      <td>0.086600</td>\n",
       "      <td>0.281248</td>\n",
       "      <td>0.000000e+00</td>\n",
       "      <td>0.000000</td>\n",
       "      <td>0.000000</td>\n",
       "      <td>0.000000</td>\n",
       "      <td>1.000000e+00</td>\n",
       "    </tr>\n",
       "    <tr>\n",
       "      <th>CNT_CHILDREN</th>\n",
       "      <td>252137.0</td>\n",
       "      <td>0.498515</td>\n",
       "      <td>0.763161</td>\n",
       "      <td>0.000000e+00</td>\n",
       "      <td>0.000000</td>\n",
       "      <td>0.000000</td>\n",
       "      <td>1.000000</td>\n",
       "      <td>1.900000e+01</td>\n",
       "    </tr>\n",
       "    <tr>\n",
       "      <th>AMT_INCOME_TOTAL</th>\n",
       "      <td>252137.0</td>\n",
       "      <td>175914.070795</td>\n",
       "      <td>258851.587748</td>\n",
       "      <td>2.565000e+04</td>\n",
       "      <td>112500.000000</td>\n",
       "      <td>157500.000000</td>\n",
       "      <td>211500.000000</td>\n",
       "      <td>1.170000e+08</td>\n",
       "    </tr>\n",
       "    <tr>\n",
       "      <th>AMT_CREDIT</th>\n",
       "      <td>252137.0</td>\n",
       "      <td>611398.457583</td>\n",
       "      <td>406527.199875</td>\n",
       "      <td>4.500000e+04</td>\n",
       "      <td>277969.500000</td>\n",
       "      <td>521280.000000</td>\n",
       "      <td>829224.000000</td>\n",
       "      <td>4.050000e+06</td>\n",
       "    </tr>\n",
       "    <tr>\n",
       "      <th>AMT_ANNUITY</th>\n",
       "      <td>252137.0</td>\n",
       "      <td>27812.186704</td>\n",
       "      <td>14647.424282</td>\n",
       "      <td>1.980000e+03</td>\n",
       "      <td>17073.000000</td>\n",
       "      <td>25834.500000</td>\n",
       "      <td>35617.500000</td>\n",
       "      <td>2.580255e+05</td>\n",
       "    </tr>\n",
       "    <tr>\n",
       "      <th>AMT_GOODS_PRICE</th>\n",
       "      <td>252137.0</td>\n",
       "      <td>549304.739525</td>\n",
       "      <td>373092.424222</td>\n",
       "      <td>4.050000e+04</td>\n",
       "      <td>247500.000000</td>\n",
       "      <td>450000.000000</td>\n",
       "      <td>693000.000000</td>\n",
       "      <td>4.050000e+06</td>\n",
       "    </tr>\n",
       "    <tr>\n",
       "      <th>REGION_POPULATION_RELATIVE</th>\n",
       "      <td>252137.0</td>\n",
       "      <td>0.020894</td>\n",
       "      <td>0.013874</td>\n",
       "      <td>2.900000e-04</td>\n",
       "      <td>0.010006</td>\n",
       "      <td>0.018850</td>\n",
       "      <td>0.028663</td>\n",
       "      <td>7.250800e-02</td>\n",
       "    </tr>\n",
       "    <tr>\n",
       "      <th>DAYS_BIRTH</th>\n",
       "      <td>252137.0</td>\n",
       "      <td>-14769.133174</td>\n",
       "      <td>3662.573769</td>\n",
       "      <td>-2.520000e+04</td>\n",
       "      <td>-17563.000000</td>\n",
       "      <td>-14573.000000</td>\n",
       "      <td>-11775.000000</td>\n",
       "      <td>-7.489000e+03</td>\n",
       "    </tr>\n",
       "    <tr>\n",
       "      <th>DAYS_EMPLOYED</th>\n",
       "      <td>252137.0</td>\n",
       "      <td>-2384.169325</td>\n",
       "      <td>2338.360162</td>\n",
       "      <td>-1.791200e+04</td>\n",
       "      <td>-3175.000000</td>\n",
       "      <td>-1648.000000</td>\n",
       "      <td>-767.000000</td>\n",
       "      <td>0.000000e+00</td>\n",
       "    </tr>\n",
       "    <tr>\n",
       "      <th>DAYS_REGISTRATION</th>\n",
       "      <td>252137.0</td>\n",
       "      <td>-4635.430849</td>\n",
       "      <td>3252.169156</td>\n",
       "      <td>-2.292800e+04</td>\n",
       "      <td>-6952.000000</td>\n",
       "      <td>-4265.000000</td>\n",
       "      <td>-1845.000000</td>\n",
       "      <td>0.000000e+00</td>\n",
       "    </tr>\n",
       "    <tr>\n",
       "      <th>DAYS_ID_PUBLISH</th>\n",
       "      <td>252137.0</td>\n",
       "      <td>-2800.639724</td>\n",
       "      <td>1515.360629</td>\n",
       "      <td>-7.197000e+03</td>\n",
       "      <td>-4177.000000</td>\n",
       "      <td>-2886.000000</td>\n",
       "      <td>-1487.000000</td>\n",
       "      <td>0.000000e+00</td>\n",
       "    </tr>\n",
       "    <tr>\n",
       "      <th>HOUR_APPR_PROCESS_START</th>\n",
       "      <td>252137.0</td>\n",
       "      <td>12.203302</td>\n",
       "      <td>3.299799</td>\n",
       "      <td>0.000000e+00</td>\n",
       "      <td>10.000000</td>\n",
       "      <td>12.000000</td>\n",
       "      <td>15.000000</td>\n",
       "      <td>2.300000e+01</td>\n",
       "    </tr>\n",
       "    <tr>\n",
       "      <th>REG_REGION_NOT_LIVE_REGION</th>\n",
       "      <td>252137.0</td>\n",
       "      <td>0.017241</td>\n",
       "      <td>0.130167</td>\n",
       "      <td>0.000000e+00</td>\n",
       "      <td>0.000000</td>\n",
       "      <td>0.000000</td>\n",
       "      <td>0.000000</td>\n",
       "      <td>1.000000e+00</td>\n",
       "    </tr>\n",
       "    <tr>\n",
       "      <th>REG_REGION_NOT_WORK_REGION</th>\n",
       "      <td>252137.0</td>\n",
       "      <td>0.061919</td>\n",
       "      <td>0.241008</td>\n",
       "      <td>0.000000e+00</td>\n",
       "      <td>0.000000</td>\n",
       "      <td>0.000000</td>\n",
       "      <td>0.000000</td>\n",
       "      <td>1.000000e+00</td>\n",
       "    </tr>\n",
       "    <tr>\n",
       "      <th>LIVE_REGION_NOT_WORK_REGION</th>\n",
       "      <td>252137.0</td>\n",
       "      <td>0.049588</td>\n",
       "      <td>0.217093</td>\n",
       "      <td>0.000000e+00</td>\n",
       "      <td>0.000000</td>\n",
       "      <td>0.000000</td>\n",
       "      <td>0.000000</td>\n",
       "      <td>1.000000e+00</td>\n",
       "    </tr>\n",
       "    <tr>\n",
       "      <th>REG_CITY_NOT_LIVE_CITY</th>\n",
       "      <td>252137.0</td>\n",
       "      <td>0.089769</td>\n",
       "      <td>0.285851</td>\n",
       "      <td>0.000000e+00</td>\n",
       "      <td>0.000000</td>\n",
       "      <td>0.000000</td>\n",
       "      <td>0.000000</td>\n",
       "      <td>1.000000e+00</td>\n",
       "    </tr>\n",
       "    <tr>\n",
       "      <th>REG_CITY_NOT_WORK_CITY</th>\n",
       "      <td>252137.0</td>\n",
       "      <td>0.281065</td>\n",
       "      <td>0.449520</td>\n",
       "      <td>0.000000e+00</td>\n",
       "      <td>0.000000</td>\n",
       "      <td>0.000000</td>\n",
       "      <td>1.000000</td>\n",
       "      <td>1.000000e+00</td>\n",
       "    </tr>\n",
       "    <tr>\n",
       "      <th>LIVE_CITY_NOT_WORK_CITY</th>\n",
       "      <td>252137.0</td>\n",
       "      <td>0.218988</td>\n",
       "      <td>0.413561</td>\n",
       "      <td>0.000000e+00</td>\n",
       "      <td>0.000000</td>\n",
       "      <td>0.000000</td>\n",
       "      <td>0.000000</td>\n",
       "      <td>1.000000e+00</td>\n",
       "    </tr>\n",
       "    <tr>\n",
       "      <th>EXT_SOURCE_2</th>\n",
       "      <td>252137.0</td>\n",
       "      <td>0.516238</td>\n",
       "      <td>0.189746</td>\n",
       "      <td>8.173617e-08</td>\n",
       "      <td>0.398826</td>\n",
       "      <td>0.566584</td>\n",
       "      <td>0.663734</td>\n",
       "      <td>8.549997e-01</td>\n",
       "    </tr>\n",
       "    <tr>\n",
       "      <th>EXT_SOURCE_3</th>\n",
       "      <td>252137.0</td>\n",
       "      <td>0.507255</td>\n",
       "      <td>0.176094</td>\n",
       "      <td>5.272652e-04</td>\n",
       "      <td>0.401407</td>\n",
       "      <td>0.535276</td>\n",
       "      <td>0.626304</td>\n",
       "      <td>8.939761e-01</td>\n",
       "    </tr>\n",
       "    <tr>\n",
       "      <th>OBS_30_CNT_SOCIAL_CIRCLE</th>\n",
       "      <td>252137.0</td>\n",
       "      <td>1.410995</td>\n",
       "      <td>2.397336</td>\n",
       "      <td>0.000000e+00</td>\n",
       "      <td>0.000000</td>\n",
       "      <td>0.000000</td>\n",
       "      <td>2.000000</td>\n",
       "      <td>3.480000e+02</td>\n",
       "    </tr>\n",
       "    <tr>\n",
       "      <th>DEF_30_CNT_SOCIAL_CIRCLE</th>\n",
       "      <td>252137.0</td>\n",
       "      <td>0.139476</td>\n",
       "      <td>0.441263</td>\n",
       "      <td>0.000000e+00</td>\n",
       "      <td>0.000000</td>\n",
       "      <td>0.000000</td>\n",
       "      <td>0.000000</td>\n",
       "      <td>3.400000e+01</td>\n",
       "    </tr>\n",
       "    <tr>\n",
       "      <th>OBS_60_CNT_SOCIAL_CIRCLE</th>\n",
       "      <td>252137.0</td>\n",
       "      <td>1.393984</td>\n",
       "      <td>2.375836</td>\n",
       "      <td>0.000000e+00</td>\n",
       "      <td>0.000000</td>\n",
       "      <td>0.000000</td>\n",
       "      <td>2.000000</td>\n",
       "      <td>3.440000e+02</td>\n",
       "    </tr>\n",
       "    <tr>\n",
       "      <th>DEF_60_CNT_SOCIAL_CIRCLE</th>\n",
       "      <td>252137.0</td>\n",
       "      <td>0.097332</td>\n",
       "      <td>0.357588</td>\n",
       "      <td>0.000000e+00</td>\n",
       "      <td>0.000000</td>\n",
       "      <td>0.000000</td>\n",
       "      <td>0.000000</td>\n",
       "      <td>2.400000e+01</td>\n",
       "    </tr>\n",
       "    <tr>\n",
       "      <th>AMT_REQ_CREDIT_BUREAU_HOUR</th>\n",
       "      <td>252137.0</td>\n",
       "      <td>0.005703</td>\n",
       "      <td>0.079206</td>\n",
       "      <td>0.000000e+00</td>\n",
       "      <td>0.000000</td>\n",
       "      <td>0.000000</td>\n",
       "      <td>0.000000</td>\n",
       "      <td>4.000000e+00</td>\n",
       "    </tr>\n",
       "    <tr>\n",
       "      <th>AMT_REQ_CREDIT_BUREAU_DAY</th>\n",
       "      <td>252137.0</td>\n",
       "      <td>0.006040</td>\n",
       "      <td>0.103325</td>\n",
       "      <td>0.000000e+00</td>\n",
       "      <td>0.000000</td>\n",
       "      <td>0.000000</td>\n",
       "      <td>0.000000</td>\n",
       "      <td>9.000000e+00</td>\n",
       "    </tr>\n",
       "    <tr>\n",
       "      <th>AMT_REQ_CREDIT_BUREAU_WEEK</th>\n",
       "      <td>252137.0</td>\n",
       "      <td>0.029496</td>\n",
       "      <td>0.189074</td>\n",
       "      <td>0.000000e+00</td>\n",
       "      <td>0.000000</td>\n",
       "      <td>0.000000</td>\n",
       "      <td>0.000000</td>\n",
       "      <td>8.000000e+00</td>\n",
       "    </tr>\n",
       "    <tr>\n",
       "      <th>AMT_REQ_CREDIT_BUREAU_MON</th>\n",
       "      <td>252137.0</td>\n",
       "      <td>0.244137</td>\n",
       "      <td>0.887624</td>\n",
       "      <td>0.000000e+00</td>\n",
       "      <td>0.000000</td>\n",
       "      <td>0.000000</td>\n",
       "      <td>0.000000</td>\n",
       "      <td>2.700000e+01</td>\n",
       "    </tr>\n",
       "    <tr>\n",
       "      <th>AMT_REQ_CREDIT_BUREAU_QRT</th>\n",
       "      <td>252137.0</td>\n",
       "      <td>0.224925</td>\n",
       "      <td>0.771489</td>\n",
       "      <td>0.000000e+00</td>\n",
       "      <td>0.000000</td>\n",
       "      <td>0.000000</td>\n",
       "      <td>0.000000</td>\n",
       "      <td>2.610000e+02</td>\n",
       "    </tr>\n",
       "    <tr>\n",
       "      <th>AMT_REQ_CREDIT_BUREAU_YEAR</th>\n",
       "      <td>252137.0</td>\n",
       "      <td>1.741299</td>\n",
       "      <td>1.724162</td>\n",
       "      <td>0.000000e+00</td>\n",
       "      <td>1.000000</td>\n",
       "      <td>1.000000</td>\n",
       "      <td>3.000000</td>\n",
       "      <td>2.300000e+01</td>\n",
       "    </tr>\n",
       "  </tbody>\n",
       "</table>\n",
       "</div>"
      ],
      "text/plain": [
       "                                count           mean            std  \\\n",
       "SK_ID_CURR                   252137.0  278114.643103  102815.635309   \n",
       "TARGET                       252137.0       0.086600       0.281248   \n",
       "CNT_CHILDREN                 252137.0       0.498515       0.763161   \n",
       "AMT_INCOME_TOTAL             252137.0  175914.070795  258851.587748   \n",
       "AMT_CREDIT                   252137.0  611398.457583  406527.199875   \n",
       "AMT_ANNUITY                  252137.0   27812.186704   14647.424282   \n",
       "AMT_GOODS_PRICE              252137.0  549304.739525  373092.424222   \n",
       "REGION_POPULATION_RELATIVE   252137.0       0.020894       0.013874   \n",
       "DAYS_BIRTH                   252137.0  -14769.133174    3662.573769   \n",
       "DAYS_EMPLOYED                252137.0   -2384.169325    2338.360162   \n",
       "DAYS_REGISTRATION            252137.0   -4635.430849    3252.169156   \n",
       "DAYS_ID_PUBLISH              252137.0   -2800.639724    1515.360629   \n",
       "HOUR_APPR_PROCESS_START      252137.0      12.203302       3.299799   \n",
       "REG_REGION_NOT_LIVE_REGION   252137.0       0.017241       0.130167   \n",
       "REG_REGION_NOT_WORK_REGION   252137.0       0.061919       0.241008   \n",
       "LIVE_REGION_NOT_WORK_REGION  252137.0       0.049588       0.217093   \n",
       "REG_CITY_NOT_LIVE_CITY       252137.0       0.089769       0.285851   \n",
       "REG_CITY_NOT_WORK_CITY       252137.0       0.281065       0.449520   \n",
       "LIVE_CITY_NOT_WORK_CITY      252137.0       0.218988       0.413561   \n",
       "EXT_SOURCE_2                 252137.0       0.516238       0.189746   \n",
       "EXT_SOURCE_3                 252137.0       0.507255       0.176094   \n",
       "OBS_30_CNT_SOCIAL_CIRCLE     252137.0       1.410995       2.397336   \n",
       "DEF_30_CNT_SOCIAL_CIRCLE     252137.0       0.139476       0.441263   \n",
       "OBS_60_CNT_SOCIAL_CIRCLE     252137.0       1.393984       2.375836   \n",
       "DEF_60_CNT_SOCIAL_CIRCLE     252137.0       0.097332       0.357588   \n",
       "AMT_REQ_CREDIT_BUREAU_HOUR   252137.0       0.005703       0.079206   \n",
       "AMT_REQ_CREDIT_BUREAU_DAY    252137.0       0.006040       0.103325   \n",
       "AMT_REQ_CREDIT_BUREAU_WEEK   252137.0       0.029496       0.189074   \n",
       "AMT_REQ_CREDIT_BUREAU_MON    252137.0       0.244137       0.887624   \n",
       "AMT_REQ_CREDIT_BUREAU_QRT    252137.0       0.224925       0.771489   \n",
       "AMT_REQ_CREDIT_BUREAU_YEAR   252137.0       1.741299       1.724162   \n",
       "\n",
       "                                      min            25%            50%  \\\n",
       "SK_ID_CURR                   1.000020e+05  189035.000000  278064.000000   \n",
       "TARGET                       0.000000e+00       0.000000       0.000000   \n",
       "CNT_CHILDREN                 0.000000e+00       0.000000       0.000000   \n",
       "AMT_INCOME_TOTAL             2.565000e+04  112500.000000  157500.000000   \n",
       "AMT_CREDIT                   4.500000e+04  277969.500000  521280.000000   \n",
       "AMT_ANNUITY                  1.980000e+03   17073.000000   25834.500000   \n",
       "AMT_GOODS_PRICE              4.050000e+04  247500.000000  450000.000000   \n",
       "REGION_POPULATION_RELATIVE   2.900000e-04       0.010006       0.018850   \n",
       "DAYS_BIRTH                  -2.520000e+04  -17563.000000  -14573.000000   \n",
       "DAYS_EMPLOYED               -1.791200e+04   -3175.000000   -1648.000000   \n",
       "DAYS_REGISTRATION           -2.292800e+04   -6952.000000   -4265.000000   \n",
       "DAYS_ID_PUBLISH             -7.197000e+03   -4177.000000   -2886.000000   \n",
       "HOUR_APPR_PROCESS_START      0.000000e+00      10.000000      12.000000   \n",
       "REG_REGION_NOT_LIVE_REGION   0.000000e+00       0.000000       0.000000   \n",
       "REG_REGION_NOT_WORK_REGION   0.000000e+00       0.000000       0.000000   \n",
       "LIVE_REGION_NOT_WORK_REGION  0.000000e+00       0.000000       0.000000   \n",
       "REG_CITY_NOT_LIVE_CITY       0.000000e+00       0.000000       0.000000   \n",
       "REG_CITY_NOT_WORK_CITY       0.000000e+00       0.000000       0.000000   \n",
       "LIVE_CITY_NOT_WORK_CITY      0.000000e+00       0.000000       0.000000   \n",
       "EXT_SOURCE_2                 8.173617e-08       0.398826       0.566584   \n",
       "EXT_SOURCE_3                 5.272652e-04       0.401407       0.535276   \n",
       "OBS_30_CNT_SOCIAL_CIRCLE     0.000000e+00       0.000000       0.000000   \n",
       "DEF_30_CNT_SOCIAL_CIRCLE     0.000000e+00       0.000000       0.000000   \n",
       "OBS_60_CNT_SOCIAL_CIRCLE     0.000000e+00       0.000000       0.000000   \n",
       "DEF_60_CNT_SOCIAL_CIRCLE     0.000000e+00       0.000000       0.000000   \n",
       "AMT_REQ_CREDIT_BUREAU_HOUR   0.000000e+00       0.000000       0.000000   \n",
       "AMT_REQ_CREDIT_BUREAU_DAY    0.000000e+00       0.000000       0.000000   \n",
       "AMT_REQ_CREDIT_BUREAU_WEEK   0.000000e+00       0.000000       0.000000   \n",
       "AMT_REQ_CREDIT_BUREAU_MON    0.000000e+00       0.000000       0.000000   \n",
       "AMT_REQ_CREDIT_BUREAU_QRT    0.000000e+00       0.000000       0.000000   \n",
       "AMT_REQ_CREDIT_BUREAU_YEAR   0.000000e+00       1.000000       1.000000   \n",
       "\n",
       "                                       75%           max  \n",
       "SK_ID_CURR                   367165.000000  4.562550e+05  \n",
       "TARGET                            0.000000  1.000000e+00  \n",
       "CNT_CHILDREN                      1.000000  1.900000e+01  \n",
       "AMT_INCOME_TOTAL             211500.000000  1.170000e+08  \n",
       "AMT_CREDIT                   829224.000000  4.050000e+06  \n",
       "AMT_ANNUITY                   35617.500000  2.580255e+05  \n",
       "AMT_GOODS_PRICE              693000.000000  4.050000e+06  \n",
       "REGION_POPULATION_RELATIVE        0.028663  7.250800e-02  \n",
       "DAYS_BIRTH                   -11775.000000 -7.489000e+03  \n",
       "DAYS_EMPLOYED                  -767.000000  0.000000e+00  \n",
       "DAYS_REGISTRATION             -1845.000000  0.000000e+00  \n",
       "DAYS_ID_PUBLISH               -1487.000000  0.000000e+00  \n",
       "HOUR_APPR_PROCESS_START          15.000000  2.300000e+01  \n",
       "REG_REGION_NOT_LIVE_REGION        0.000000  1.000000e+00  \n",
       "REG_REGION_NOT_WORK_REGION        0.000000  1.000000e+00  \n",
       "LIVE_REGION_NOT_WORK_REGION       0.000000  1.000000e+00  \n",
       "REG_CITY_NOT_LIVE_CITY            0.000000  1.000000e+00  \n",
       "REG_CITY_NOT_WORK_CITY            1.000000  1.000000e+00  \n",
       "LIVE_CITY_NOT_WORK_CITY           0.000000  1.000000e+00  \n",
       "EXT_SOURCE_2                      0.663734  8.549997e-01  \n",
       "EXT_SOURCE_3                      0.626304  8.939761e-01  \n",
       "OBS_30_CNT_SOCIAL_CIRCLE          2.000000  3.480000e+02  \n",
       "DEF_30_CNT_SOCIAL_CIRCLE          0.000000  3.400000e+01  \n",
       "OBS_60_CNT_SOCIAL_CIRCLE          2.000000  3.440000e+02  \n",
       "DEF_60_CNT_SOCIAL_CIRCLE          0.000000  2.400000e+01  \n",
       "AMT_REQ_CREDIT_BUREAU_HOUR        0.000000  4.000000e+00  \n",
       "AMT_REQ_CREDIT_BUREAU_DAY         0.000000  9.000000e+00  \n",
       "AMT_REQ_CREDIT_BUREAU_WEEK        0.000000  8.000000e+00  \n",
       "AMT_REQ_CREDIT_BUREAU_MON         0.000000  2.700000e+01  \n",
       "AMT_REQ_CREDIT_BUREAU_QRT         0.000000  2.610000e+02  \n",
       "AMT_REQ_CREDIT_BUREAU_YEAR        3.000000  2.300000e+01  "
      ]
     },
     "execution_count": 79,
     "metadata": {},
     "output_type": "execute_result"
    }
   ],
   "source": [
    "# Now checking numerical columns for any garbage values so we can fix them.\n",
    "data.describe().T"
   ]
  },
  {
   "cell_type": "markdown",
   "metadata": {},
   "source": [
    "- We can see from above that there are 4 columns which have negative values in them. But these columns does not require negative values they are showing relative no. of days from application."
   ]
  },
  {
   "cell_type": "code",
   "execution_count": 80,
   "metadata": {},
   "outputs": [],
   "source": [
    "# Changing the negative to positive values\n",
    "data[['DAYS_BIRTH', 'DAYS_EMPLOYED', 'DAYS_REGISTRATION', 'DAYS_ID_PUBLISH']] = abs(data[['DAYS_BIRTH', 'DAYS_EMPLOYED', 'DAYS_REGISTRATION', 'DAYS_ID_PUBLISH']])"
   ]
  },
  {
   "cell_type": "code",
   "execution_count": 81,
   "metadata": {},
   "outputs": [
    {
     "data": {
      "text/html": [
       "<div>\n",
       "<style scoped>\n",
       "    .dataframe tbody tr th:only-of-type {\n",
       "        vertical-align: middle;\n",
       "    }\n",
       "\n",
       "    .dataframe tbody tr th {\n",
       "        vertical-align: top;\n",
       "    }\n",
       "\n",
       "    .dataframe thead th {\n",
       "        text-align: right;\n",
       "    }\n",
       "</style>\n",
       "<table border=\"1\" class=\"dataframe\">\n",
       "  <thead>\n",
       "    <tr style=\"text-align: right;\">\n",
       "      <th></th>\n",
       "      <th>DAYS_BIRTH</th>\n",
       "      <th>DAYS_EMPLOYED</th>\n",
       "      <th>DAYS_REGISTRATION</th>\n",
       "      <th>DAYS_ID_PUBLISH</th>\n",
       "    </tr>\n",
       "  </thead>\n",
       "  <tbody>\n",
       "    <tr>\n",
       "      <th>count</th>\n",
       "      <td>252137.000000</td>\n",
       "      <td>252137.000000</td>\n",
       "      <td>252137.000000</td>\n",
       "      <td>252137.000000</td>\n",
       "    </tr>\n",
       "    <tr>\n",
       "      <th>mean</th>\n",
       "      <td>14769.133174</td>\n",
       "      <td>2384.169325</td>\n",
       "      <td>4635.430849</td>\n",
       "      <td>2800.639724</td>\n",
       "    </tr>\n",
       "    <tr>\n",
       "      <th>std</th>\n",
       "      <td>3662.573769</td>\n",
       "      <td>2338.360162</td>\n",
       "      <td>3252.169156</td>\n",
       "      <td>1515.360629</td>\n",
       "    </tr>\n",
       "    <tr>\n",
       "      <th>min</th>\n",
       "      <td>7489.000000</td>\n",
       "      <td>0.000000</td>\n",
       "      <td>0.000000</td>\n",
       "      <td>0.000000</td>\n",
       "    </tr>\n",
       "    <tr>\n",
       "      <th>25%</th>\n",
       "      <td>11775.000000</td>\n",
       "      <td>767.000000</td>\n",
       "      <td>1845.000000</td>\n",
       "      <td>1487.000000</td>\n",
       "    </tr>\n",
       "    <tr>\n",
       "      <th>50%</th>\n",
       "      <td>14573.000000</td>\n",
       "      <td>1648.000000</td>\n",
       "      <td>4265.000000</td>\n",
       "      <td>2886.000000</td>\n",
       "    </tr>\n",
       "    <tr>\n",
       "      <th>75%</th>\n",
       "      <td>17563.000000</td>\n",
       "      <td>3175.000000</td>\n",
       "      <td>6952.000000</td>\n",
       "      <td>4177.000000</td>\n",
       "    </tr>\n",
       "    <tr>\n",
       "      <th>max</th>\n",
       "      <td>25200.000000</td>\n",
       "      <td>17912.000000</td>\n",
       "      <td>22928.000000</td>\n",
       "      <td>7197.000000</td>\n",
       "    </tr>\n",
       "  </tbody>\n",
       "</table>\n",
       "</div>"
      ],
      "text/plain": [
       "          DAYS_BIRTH  DAYS_EMPLOYED  DAYS_REGISTRATION  DAYS_ID_PUBLISH\n",
       "count  252137.000000  252137.000000      252137.000000    252137.000000\n",
       "mean    14769.133174    2384.169325        4635.430849      2800.639724\n",
       "std      3662.573769    2338.360162        3252.169156      1515.360629\n",
       "min      7489.000000       0.000000           0.000000         0.000000\n",
       "25%     11775.000000     767.000000        1845.000000      1487.000000\n",
       "50%     14573.000000    1648.000000        4265.000000      2886.000000\n",
       "75%     17563.000000    3175.000000        6952.000000      4177.000000\n",
       "max     25200.000000   17912.000000       22928.000000      7197.000000"
      ]
     },
     "execution_count": 81,
     "metadata": {},
     "output_type": "execute_result"
    }
   ],
   "source": [
    "data[['DAYS_BIRTH', 'DAYS_EMPLOYED', 'DAYS_REGISTRATION', 'DAYS_ID_PUBLISH']].describe()"
   ]
  },
  {
   "cell_type": "code",
   "execution_count": 92,
   "metadata": {},
   "outputs": [],
   "source": [
    "# Creating a new column with client age in year and then changing them into range so that we can get insights from it.\n",
    "data['CLIENT_AGE'] = data['DAYS_BIRTH']/365"
   ]
  },
  {
   "cell_type": "markdown",
   "metadata": {},
   "source": [
    "## Application Data Analysis\n"
   ]
  },
  {
   "cell_type": "markdown",
   "metadata": {},
   "source": [
    "### Univariate Analysis"
   ]
  },
  {
   "cell_type": "markdown",
   "metadata": {},
   "source": [
    "- We can take a look at Target variable that tells 1 is payment difficulties(means client paid the installments X days late) and 0 tells all the other cases"
   ]
  },
  {
   "cell_type": "code",
   "execution_count": 93,
   "metadata": {},
   "outputs": [
    {
     "data": {
      "text/plain": [
       "0    91.34\n",
       "1     8.66\n",
       "Name: TARGET, dtype: float64"
      ]
     },
     "execution_count": 93,
     "metadata": {},
     "output_type": "execute_result"
    }
   ],
   "source": [
    "count_target = round(data['TARGET'].value_counts(normalize = True)*100,2)\n",
    "count_target"
   ]
  },
  {
   "cell_type": "code",
   "execution_count": 94,
   "metadata": {},
   "outputs": [
    {
     "data": {
      "image/png": "[encoded data removed]",
      "text/plain": [
       "<Figure size 432x432 with 1 Axes>"
      ]
     },
     "metadata": {},
     "output_type": "display_data"
    }
   ],
   "source": [
    "plt.figure(figsize = (6,6))\n",
    "count_target.plot.pie(autopct = '%.2f%%')\n",
    "plt.show()"
   ]
  },
  {
   "cell_type": "markdown",
   "metadata": {},
   "source": [
    "- We can see from above that there is a data imbalance in the dataset. Because there is too much difference between the count of the values."
   ]
  },
  {
   "cell_type": "code",
   "execution_count": 95,
   "metadata": {},
   "outputs": [],
   "source": [
    "# Saving these two target variables in different datasets for further analysis\n",
    "data_0 = data[data['TARGET'] == 0]\n",
    "data_1 = data[data['TARGET'] == 1]"
   ]
  },
  {
   "cell_type": "code",
   "execution_count": 96,
   "metadata": {},
   "outputs": [
    {
     "name": "stdout",
     "output_type": "stream",
     "text": [
      "ratio:  10.547378062743302\n"
     ]
    }
   ],
   "source": [
    "# ratio of data imbalance of target variables\n",
    "print('ratio: ',len(data_0)/len(data_1))"
   ]
  },
  {
   "cell_type": "code",
   "execution_count": 97,
   "metadata": {},
   "outputs": [
    {
     "data": {
      "image/png": "[encoded data removed]",
      "text/plain": [
       "<Figure size 1440x576 with 2 Axes>"
      ]
     },
     "metadata": {
      "needs_background": "light"
     },
     "output_type": "display_data"
    }
   ],
   "source": [
    "plt.figure(figsize = (20,8))\n",
    "plt.subplot(1,2,1)\n",
    "sns.histplot(data_0['NAME_EDUCATION_TYPE'])\n",
    "plt.xticks(rotation = 90)\n",
    "plt.subplot(1,2,2)\n",
    "sns.histplot(data_1['NAME_EDUCATION_TYPE'])\n",
    "plt.xticks(rotation = 90)\n",
    "plt.show()"
   ]
  },
  {
   "cell_type": "code",
   "execution_count": 98,
   "metadata": {},
   "outputs": [
    {
     "data": {
      "image/png": "[encoded data removed]",
      "text/plain": [
       "<Figure size 1440x576 with 2 Axes>"
      ]
     },
     "metadata": {
      "needs_background": "light"
     },
     "output_type": "display_data"
    }
   ],
   "source": [
    "plt.figure(figsize = (20,8))\n",
    "plt.subplot(1,2,1)\n",
    "sns.histplot(data_0['OCCUPATION_TYPE'].sort_values())\n",
    "plt.xticks(rotation = 90)\n",
    "plt.subplot(1,2,2)\n",
    "sns.histplot(data_1['OCCUPATION_TYPE'].sort_values())\n",
    "plt.xticks(rotation = 90)\n",
    "plt.show()"
   ]
  },
  {
   "cell_type": "code",
   "execution_count": 99,
   "metadata": {},
   "outputs": [
    {
     "data": {
      "image/png": "[encoded data removed]",
      "text/plain": [
       "<Figure size 1800x576 with 1 Axes>"
      ]
     },
     "metadata": {
      "needs_background": "light"
     },
     "output_type": "display_data"
    }
   ],
   "source": [
    "plt.figure(figsize = (25,8))\n",
    "sns.histplot(data['ORGANIZATION_TYPE'].sort_values())\n",
    "plt.xticks(rotation = 90)\n",
    "plt.show()"
   ]
  },
  {
   "cell_type": "code",
   "execution_count": 107,
   "metadata": {},
   "outputs": [
    {
     "data": {
      "image/png": "[encoded data removed]",
      "text/plain": [
       "<Figure size 1440x576 with 2 Axes>"
      ]
     },
     "metadata": {
      "needs_background": "light"
     },
     "output_type": "display_data"
    }
   ],
   "source": [
    "plt.figure(figsize = (20,8))\n",
    "plt.subplot(1,2,1)\n",
    "sns.histplot(data_0['CLIENT_AGE'],edgecolor = 'black', bins = 15)\n",
    "plt.title('Target_0')\n",
    "plt.subplot(1,2,2)\n",
    "sns.histplot(data_1['CLIENT_AGE'],edgecolor = 'black', bins = 15)\n",
    "plt.title('Target_1')\n",
    "plt.show()"
   ]
  },
  {
   "cell_type": "code",
   "execution_count": 155,
   "metadata": {},
   "outputs": [
    {
     "data": {
      "image/png": "[encoded data removed]",
      "text/plain": [
       "<Figure size 432x288 with 1 Axes>"
      ]
     },
     "metadata": {
      "needs_background": "light"
     },
     "output_type": "display_data"
    }
   ],
   "source": [
    "# check for the outliers in income column\n",
    "sns.boxplot(data['AMT_INCOME_TOTAL'])\n",
    "plt.show()"
   ]
  },
  {
   "cell_type": "code",
   "execution_count": 121,
   "metadata": {},
   "outputs": [
    {
     "data": {
      "text/plain": [
       "count    2.521370e+05\n",
       "mean     1.759141e+05\n",
       "std      2.588516e+05\n",
       "min      2.565000e+04\n",
       "25%      1.125000e+05\n",
       "50%      1.575000e+05\n",
       "75%      2.115000e+05\n",
       "95%      3.553344e+05\n",
       "99%      5.175000e+05\n",
       "max      1.170000e+08\n",
       "Name: AMT_INCOME_TOTAL, dtype: float64"
      ]
     },
     "execution_count": 121,
     "metadata": {},
     "output_type": "execute_result"
    }
   ],
   "source": [
    "# so we can see from above that there is an outlier messing with our data\n",
    "data['AMT_INCOME_TOTAL'].describe(percentiles = [0.25,0.5,0.75,0.95,0.99])"
   ]
  },
  {
   "cell_type": "code",
   "execution_count": 124,
   "metadata": {},
   "outputs": [],
   "source": [
    "# so the 99% percentile is around 520000 we can remove this value for better analysis\n",
    "data_income = data[~(data['AMT_INCOME_TOTAL'] > 520000)]"
   ]
  },
  {
   "cell_type": "code",
   "execution_count": 154,
   "metadata": {},
   "outputs": [
    {
     "data": {
      "image/png": "[encoded data removed]",
      "text/plain": [
       "<Figure size 432x288 with 1 Axes>"
      ]
     },
     "metadata": {
      "needs_background": "light"
     },
     "output_type": "display_data"
    }
   ],
   "source": [
    "sns.boxplot(data_income['AMT_INCOME_TOTAL'])\n",
    "plt.show()"
   ]
  },
  {
   "cell_type": "code",
   "execution_count": 148,
   "metadata": {},
   "outputs": [
    {
     "data": {
      "image/png": "[encoded data removed]",
      "text/plain": [
       "<Figure size 720x432 with 1 Axes>"
      ]
     },
     "metadata": {
      "needs_background": "light"
     },
     "output_type": "display_data"
    }
   ],
   "source": [
    "# plotting income column after removing the outlier\n",
    "plt.figure(figsize = (10,6))\n",
    "sns.histplot(data_income['AMT_INCOME_TOTAL'],edgecolor = 'black', bins = 20)\n",
    "plt.show()"
   ]
  },
  {
   "cell_type": "code",
   "execution_count": 153,
   "metadata": {},
   "outputs": [
    {
     "data": {
      "image/png": "[encoded data removed]",
      "text/plain": [
       "<Figure size 1440x576 with 2 Axes>"
      ]
     },
     "metadata": {
      "needs_background": "light"
     },
     "output_type": "display_data"
    }
   ],
   "source": [
    "plt.figure(figsize = (20,8))\n",
    "plt.subplot(1,2,1)\n",
    "sns.boxplot(data['AMT_CREDIT'])\n",
    "plt.subplot(1,2,2)\n",
    "sns.boxplot(data['AMT_ANNUITY'])\n",
    "plt.show()"
   ]
  },
  {
   "cell_type": "markdown",
   "metadata": {},
   "source": [
    "- There are outliers present in the above columns but we don't need to do anything because they are correct entries and will help in the analysis."
   ]
  },
  {
   "cell_type": "markdown",
   "metadata": {},
   "source": [
    "### Bivariate Analysis"
   ]
  },
  {
   "cell_type": "code",
   "execution_count": null,
   "metadata": {},
   "outputs": [],
   "source": []
  }
 ],
 "metadata": {
  "kernelspec": {
   "display_name": "Python 3",
   "language": "python",
   "name": "python3"
  },
  "language_info": {
   "codemirror_mode": {
    "name": "ipython",
    "version": 3
   },
   "file_extension": ".py",
   "mimetype": "text/x-python",
   "name": "python",
   "nbconvert_exporter": "python",
   "pygments_lexer": "ipython3",
   "version": "3.8.5"
  }
 },
 "nbformat": 4,
 "nbformat_minor": 4
}
